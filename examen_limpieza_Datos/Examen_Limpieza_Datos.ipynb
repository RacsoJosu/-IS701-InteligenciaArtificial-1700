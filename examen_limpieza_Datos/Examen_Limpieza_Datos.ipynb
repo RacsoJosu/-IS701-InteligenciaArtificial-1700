{
 "cells": [
  {
   "cell_type": "code",
   "execution_count": null,
   "id": "c5acfb18-5e49-4d9c-a691-7d3fe5f873d3",
   "metadata": {},
   "outputs": [],
   "source": []
  },
  {
   "cell_type": "code",
   "execution_count": 1,
   "id": "88b71a26-cae1-44a4-b0c3-a9a85d743d6a",
   "metadata": {},
   "outputs": [],
   "source": [
    "\n",
    "import pandas as pd\n",
    "import matplotlib.pyplot as plt\n",
    "import seaborn as sns\n",
    "import numpy as np\n"
   ]
  },
  {
   "cell_type": "code",
   "execution_count": 3,
   "id": "c1f0c580-0a7c-41fc-ab7d-2d451577d2c9",
   "metadata": {},
   "outputs": [],
   "source": [
    "df_banck = pd.read_csv(\"BankChurners.csv\")"
   ]
  },
  {
   "cell_type": "code",
   "execution_count": 4,
   "id": "fccb5dea-173d-4e2e-b720-3f1333684bd2",
   "metadata": {},
   "outputs": [
    {
     "data": {
      "text/plain": [
       "Index(['CLIENTNUM', 'Attrition_Flag', 'Customer_Age', 'Gender',\n",
       "       'Dependent_count', 'Education_Level', 'Marital_Status',\n",
       "       'Income_Category', 'Card_Category', 'Months_on_book',\n",
       "       'Total_Relationship_Count', 'Months_Inactive_12_mon',\n",
       "       'Contacts_Count_12_mon', 'Credit_Limit', 'Total_Revolving_Bal',\n",
       "       'Avg_Open_To_Buy', 'Total_Amt_Chng_Q4_Q1', 'Total_Trans_Amt',\n",
       "       'Total_Trans_Ct', 'Total_Ct_Chng_Q4_Q1', 'Avg_Utilization_Ratio',\n",
       "       'Naive_Bayes_Classifier_Attrition_Flag_Card_Category_Contacts_Count_12_mon_Dependent_count_Education_Level_Months_Inactive_12_mon_1',\n",
       "       'Naive_Bayes_Classifier_Attrition_Flag_Card_Category_Contacts_Count_12_mon_Dependent_count_Education_Level_Months_Inactive_12_mon_2'],\n",
       "      dtype='object')"
      ]
     },
     "execution_count": 4,
     "metadata": {},
     "output_type": "execute_result"
    }
   ],
   "source": [
    "df_banck.columns"
   ]
  },
  {
   "cell_type": "code",
   "execution_count": 7,
   "id": "e2250e8c-315d-447d-9900-477c596c672d",
   "metadata": {},
   "outputs": [
    {
     "data": {
      "text/html": [
       "<div>\n",
       "<style scoped>\n",
       "    .dataframe tbody tr th:only-of-type {\n",
       "        vertical-align: middle;\n",
       "    }\n",
       "\n",
       "    .dataframe tbody tr th {\n",
       "        vertical-align: top;\n",
       "    }\n",
       "\n",
       "    .dataframe thead th {\n",
       "        text-align: right;\n",
       "    }\n",
       "</style>\n",
       "<table border=\"1\" class=\"dataframe\">\n",
       "  <thead>\n",
       "    <tr style=\"text-align: right;\">\n",
       "      <th></th>\n",
       "      <th>CLIENTNUM</th>\n",
       "      <th>Customer_Age</th>\n",
       "      <th>Dependent_count</th>\n",
       "      <th>Months_on_book</th>\n",
       "      <th>Total_Relationship_Count</th>\n",
       "      <th>Months_Inactive_12_mon</th>\n",
       "      <th>Contacts_Count_12_mon</th>\n",
       "      <th>Credit_Limit</th>\n",
       "      <th>Total_Revolving_Bal</th>\n",
       "      <th>Avg_Open_To_Buy</th>\n",
       "      <th>Total_Amt_Chng_Q4_Q1</th>\n",
       "      <th>Total_Trans_Amt</th>\n",
       "      <th>Total_Trans_Ct</th>\n",
       "      <th>Total_Ct_Chng_Q4_Q1</th>\n",
       "      <th>Avg_Utilization_Ratio</th>\n",
       "      <th>Naive_Bayes_Classifier_Attrition_Flag_Card_Category_Contacts_Count_12_mon_Dependent_count_Education_Level_Months_Inactive_12_mon_1</th>\n",
       "      <th>Naive_Bayes_Classifier_Attrition_Flag_Card_Category_Contacts_Count_12_mon_Dependent_count_Education_Level_Months_Inactive_12_mon_2</th>\n",
       "    </tr>\n",
       "  </thead>\n",
       "  <tbody>\n",
       "    <tr>\n",
       "      <th>count</th>\n",
       "      <td>1.012700e+04</td>\n",
       "      <td>10127.000000</td>\n",
       "      <td>10127.000000</td>\n",
       "      <td>10127.000000</td>\n",
       "      <td>10127.000000</td>\n",
       "      <td>10127.000000</td>\n",
       "      <td>10127.000000</td>\n",
       "      <td>10127.000000</td>\n",
       "      <td>10127.000000</td>\n",
       "      <td>10127.000000</td>\n",
       "      <td>10127.000000</td>\n",
       "      <td>10127.000000</td>\n",
       "      <td>10127.000000</td>\n",
       "      <td>10127.000000</td>\n",
       "      <td>10127.000000</td>\n",
       "      <td>10127.000000</td>\n",
       "      <td>10127.000000</td>\n",
       "    </tr>\n",
       "    <tr>\n",
       "      <th>mean</th>\n",
       "      <td>7.391776e+08</td>\n",
       "      <td>46.325960</td>\n",
       "      <td>2.346203</td>\n",
       "      <td>35.928409</td>\n",
       "      <td>3.812580</td>\n",
       "      <td>2.341167</td>\n",
       "      <td>2.455317</td>\n",
       "      <td>8631.953698</td>\n",
       "      <td>1162.814061</td>\n",
       "      <td>7469.139637</td>\n",
       "      <td>0.759941</td>\n",
       "      <td>4404.086304</td>\n",
       "      <td>64.858695</td>\n",
       "      <td>0.712222</td>\n",
       "      <td>0.274894</td>\n",
       "      <td>0.159997</td>\n",
       "      <td>0.840003</td>\n",
       "    </tr>\n",
       "    <tr>\n",
       "      <th>std</th>\n",
       "      <td>3.690378e+07</td>\n",
       "      <td>8.016814</td>\n",
       "      <td>1.298908</td>\n",
       "      <td>7.986416</td>\n",
       "      <td>1.554408</td>\n",
       "      <td>1.010622</td>\n",
       "      <td>1.106225</td>\n",
       "      <td>9088.776650</td>\n",
       "      <td>814.987335</td>\n",
       "      <td>9090.685324</td>\n",
       "      <td>0.219207</td>\n",
       "      <td>3397.129254</td>\n",
       "      <td>23.472570</td>\n",
       "      <td>0.238086</td>\n",
       "      <td>0.275691</td>\n",
       "      <td>0.365301</td>\n",
       "      <td>0.365301</td>\n",
       "    </tr>\n",
       "    <tr>\n",
       "      <th>min</th>\n",
       "      <td>7.080821e+08</td>\n",
       "      <td>26.000000</td>\n",
       "      <td>0.000000</td>\n",
       "      <td>13.000000</td>\n",
       "      <td>1.000000</td>\n",
       "      <td>0.000000</td>\n",
       "      <td>0.000000</td>\n",
       "      <td>1438.300000</td>\n",
       "      <td>0.000000</td>\n",
       "      <td>3.000000</td>\n",
       "      <td>0.000000</td>\n",
       "      <td>510.000000</td>\n",
       "      <td>10.000000</td>\n",
       "      <td>0.000000</td>\n",
       "      <td>0.000000</td>\n",
       "      <td>0.000008</td>\n",
       "      <td>0.000420</td>\n",
       "    </tr>\n",
       "    <tr>\n",
       "      <th>25%</th>\n",
       "      <td>7.130368e+08</td>\n",
       "      <td>41.000000</td>\n",
       "      <td>1.000000</td>\n",
       "      <td>31.000000</td>\n",
       "      <td>3.000000</td>\n",
       "      <td>2.000000</td>\n",
       "      <td>2.000000</td>\n",
       "      <td>2555.000000</td>\n",
       "      <td>359.000000</td>\n",
       "      <td>1324.500000</td>\n",
       "      <td>0.631000</td>\n",
       "      <td>2155.500000</td>\n",
       "      <td>45.000000</td>\n",
       "      <td>0.582000</td>\n",
       "      <td>0.023000</td>\n",
       "      <td>0.000099</td>\n",
       "      <td>0.999660</td>\n",
       "    </tr>\n",
       "    <tr>\n",
       "      <th>50%</th>\n",
       "      <td>7.179264e+08</td>\n",
       "      <td>46.000000</td>\n",
       "      <td>2.000000</td>\n",
       "      <td>36.000000</td>\n",
       "      <td>4.000000</td>\n",
       "      <td>2.000000</td>\n",
       "      <td>2.000000</td>\n",
       "      <td>4549.000000</td>\n",
       "      <td>1276.000000</td>\n",
       "      <td>3474.000000</td>\n",
       "      <td>0.736000</td>\n",
       "      <td>3899.000000</td>\n",
       "      <td>67.000000</td>\n",
       "      <td>0.702000</td>\n",
       "      <td>0.176000</td>\n",
       "      <td>0.000181</td>\n",
       "      <td>0.999820</td>\n",
       "    </tr>\n",
       "    <tr>\n",
       "      <th>75%</th>\n",
       "      <td>7.731435e+08</td>\n",
       "      <td>52.000000</td>\n",
       "      <td>3.000000</td>\n",
       "      <td>40.000000</td>\n",
       "      <td>5.000000</td>\n",
       "      <td>3.000000</td>\n",
       "      <td>3.000000</td>\n",
       "      <td>11067.500000</td>\n",
       "      <td>1784.000000</td>\n",
       "      <td>9859.000000</td>\n",
       "      <td>0.859000</td>\n",
       "      <td>4741.000000</td>\n",
       "      <td>81.000000</td>\n",
       "      <td>0.818000</td>\n",
       "      <td>0.503000</td>\n",
       "      <td>0.000337</td>\n",
       "      <td>0.999900</td>\n",
       "    </tr>\n",
       "    <tr>\n",
       "      <th>max</th>\n",
       "      <td>8.283431e+08</td>\n",
       "      <td>73.000000</td>\n",
       "      <td>5.000000</td>\n",
       "      <td>56.000000</td>\n",
       "      <td>6.000000</td>\n",
       "      <td>6.000000</td>\n",
       "      <td>6.000000</td>\n",
       "      <td>34516.000000</td>\n",
       "      <td>2517.000000</td>\n",
       "      <td>34516.000000</td>\n",
       "      <td>3.397000</td>\n",
       "      <td>18484.000000</td>\n",
       "      <td>139.000000</td>\n",
       "      <td>3.714000</td>\n",
       "      <td>0.999000</td>\n",
       "      <td>0.999580</td>\n",
       "      <td>0.999990</td>\n",
       "    </tr>\n",
       "  </tbody>\n",
       "</table>\n",
       "</div>"
      ],
      "text/plain": [
       "          CLIENTNUM  Customer_Age  Dependent_count  Months_on_book  \\\n",
       "count  1.012700e+04  10127.000000     10127.000000    10127.000000   \n",
       "mean   7.391776e+08     46.325960         2.346203       35.928409   \n",
       "std    3.690378e+07      8.016814         1.298908        7.986416   \n",
       "min    7.080821e+08     26.000000         0.000000       13.000000   \n",
       "25%    7.130368e+08     41.000000         1.000000       31.000000   \n",
       "50%    7.179264e+08     46.000000         2.000000       36.000000   \n",
       "75%    7.731435e+08     52.000000         3.000000       40.000000   \n",
       "max    8.283431e+08     73.000000         5.000000       56.000000   \n",
       "\n",
       "       Total_Relationship_Count  Months_Inactive_12_mon  \\\n",
       "count              10127.000000            10127.000000   \n",
       "mean                   3.812580                2.341167   \n",
       "std                    1.554408                1.010622   \n",
       "min                    1.000000                0.000000   \n",
       "25%                    3.000000                2.000000   \n",
       "50%                    4.000000                2.000000   \n",
       "75%                    5.000000                3.000000   \n",
       "max                    6.000000                6.000000   \n",
       "\n",
       "       Contacts_Count_12_mon  Credit_Limit  Total_Revolving_Bal  \\\n",
       "count           10127.000000  10127.000000         10127.000000   \n",
       "mean                2.455317   8631.953698          1162.814061   \n",
       "std                 1.106225   9088.776650           814.987335   \n",
       "min                 0.000000   1438.300000             0.000000   \n",
       "25%                 2.000000   2555.000000           359.000000   \n",
       "50%                 2.000000   4549.000000          1276.000000   \n",
       "75%                 3.000000  11067.500000          1784.000000   \n",
       "max                 6.000000  34516.000000          2517.000000   \n",
       "\n",
       "       Avg_Open_To_Buy  Total_Amt_Chng_Q4_Q1  Total_Trans_Amt  Total_Trans_Ct  \\\n",
       "count     10127.000000          10127.000000     10127.000000    10127.000000   \n",
       "mean       7469.139637              0.759941      4404.086304       64.858695   \n",
       "std        9090.685324              0.219207      3397.129254       23.472570   \n",
       "min           3.000000              0.000000       510.000000       10.000000   \n",
       "25%        1324.500000              0.631000      2155.500000       45.000000   \n",
       "50%        3474.000000              0.736000      3899.000000       67.000000   \n",
       "75%        9859.000000              0.859000      4741.000000       81.000000   \n",
       "max       34516.000000              3.397000     18484.000000      139.000000   \n",
       "\n",
       "       Total_Ct_Chng_Q4_Q1  Avg_Utilization_Ratio  \\\n",
       "count         10127.000000           10127.000000   \n",
       "mean              0.712222               0.274894   \n",
       "std               0.238086               0.275691   \n",
       "min               0.000000               0.000000   \n",
       "25%               0.582000               0.023000   \n",
       "50%               0.702000               0.176000   \n",
       "75%               0.818000               0.503000   \n",
       "max               3.714000               0.999000   \n",
       "\n",
       "       Naive_Bayes_Classifier_Attrition_Flag_Card_Category_Contacts_Count_12_mon_Dependent_count_Education_Level_Months_Inactive_12_mon_1  \\\n",
       "count                                       10127.000000                                                                                    \n",
       "mean                                            0.159997                                                                                    \n",
       "std                                             0.365301                                                                                    \n",
       "min                                             0.000008                                                                                    \n",
       "25%                                             0.000099                                                                                    \n",
       "50%                                             0.000181                                                                                    \n",
       "75%                                             0.000337                                                                                    \n",
       "max                                             0.999580                                                                                    \n",
       "\n",
       "       Naive_Bayes_Classifier_Attrition_Flag_Card_Category_Contacts_Count_12_mon_Dependent_count_Education_Level_Months_Inactive_12_mon_2  \n",
       "count                                       10127.000000                                                                                   \n",
       "mean                                            0.840003                                                                                   \n",
       "std                                             0.365301                                                                                   \n",
       "min                                             0.000420                                                                                   \n",
       "25%                                             0.999660                                                                                   \n",
       "50%                                             0.999820                                                                                   \n",
       "75%                                             0.999900                                                                                   \n",
       "max                                             0.999990                                                                                   "
      ]
     },
     "execution_count": 7,
     "metadata": {},
     "output_type": "execute_result"
    }
   ],
   "source": [
    "df_banck.describe()"
   ]
  },
  {
   "cell_type": "code",
   "execution_count": null,
   "id": "8c7436ba-f54e-4487-86af-2b5db140692a",
   "metadata": {},
   "outputs": [],
   "source": []
  },
  {
   "cell_type": "code",
   "execution_count": 8,
   "id": "7dee62b7-a1dc-4e36-a051-e6b60bbd2172",
   "metadata": {},
   "outputs": [
    {
     "data": {
      "text/plain": [
       "True"
      ]
     },
     "execution_count": 8,
     "metadata": {},
     "output_type": "execute_result"
    }
   ],
   "source": [
    "# LLAVE PRIMARIA \n",
    "len(df_banck[\"CLIENTNUM\"].drop_duplicates().sort_values()) == df_banck.shape[0]"
   ]
  },
  {
   "cell_type": "markdown",
   "id": "96b57ce2-59f4-4bc3-8840-d80bc547a06e",
   "metadata": {
    "tags": []
   },
   "source": [
    "# Conclusiones\n",
    "### -Variables continuas = ['Credit_Limit','Avg_Open_To_Buy','Total_Revolving_Bal','Avg_Utilization_Ratio'] \n",
    "### -Variables Discretas = ['Customer_Age', 'Dependent_count', 'Months_on_book','Total_Relationship_Count', 'Months_Inactive_12_mon','Contacts_Count_12_mon']"
   ]
  },
  {
   "cell_type": "code",
   "execution_count": 9,
   "id": "1e050339-ae5a-415f-bbfa-3e2de43953d5",
   "metadata": {},
   "outputs": [
    {
     "data": {
      "text/html": [
       "<div>\n",
       "<style scoped>\n",
       "    .dataframe tbody tr th:only-of-type {\n",
       "        vertical-align: middle;\n",
       "    }\n",
       "\n",
       "    .dataframe tbody tr th {\n",
       "        vertical-align: top;\n",
       "    }\n",
       "\n",
       "    .dataframe thead th {\n",
       "        text-align: right;\n",
       "    }\n",
       "</style>\n",
       "<table border=\"1\" class=\"dataframe\">\n",
       "  <thead>\n",
       "    <tr style=\"text-align: right;\">\n",
       "      <th></th>\n",
       "      <th>count</th>\n",
       "      <th>unique</th>\n",
       "      <th>top</th>\n",
       "      <th>freq</th>\n",
       "    </tr>\n",
       "  </thead>\n",
       "  <tbody>\n",
       "    <tr>\n",
       "      <th>Attrition_Flag</th>\n",
       "      <td>10127</td>\n",
       "      <td>2</td>\n",
       "      <td>Existing Customer</td>\n",
       "      <td>8500</td>\n",
       "    </tr>\n",
       "    <tr>\n",
       "      <th>Gender</th>\n",
       "      <td>10127</td>\n",
       "      <td>2</td>\n",
       "      <td>F</td>\n",
       "      <td>5358</td>\n",
       "    </tr>\n",
       "    <tr>\n",
       "      <th>Education_Level</th>\n",
       "      <td>10127</td>\n",
       "      <td>7</td>\n",
       "      <td>Graduate</td>\n",
       "      <td>3128</td>\n",
       "    </tr>\n",
       "    <tr>\n",
       "      <th>Marital_Status</th>\n",
       "      <td>10127</td>\n",
       "      <td>4</td>\n",
       "      <td>Married</td>\n",
       "      <td>4687</td>\n",
       "    </tr>\n",
       "    <tr>\n",
       "      <th>Income_Category</th>\n",
       "      <td>10127</td>\n",
       "      <td>6</td>\n",
       "      <td>Less than $40K</td>\n",
       "      <td>3561</td>\n",
       "    </tr>\n",
       "    <tr>\n",
       "      <th>Card_Category</th>\n",
       "      <td>10127</td>\n",
       "      <td>4</td>\n",
       "      <td>Blue</td>\n",
       "      <td>9436</td>\n",
       "    </tr>\n",
       "  </tbody>\n",
       "</table>\n",
       "</div>"
      ],
      "text/plain": [
       "                 count unique                top  freq\n",
       "Attrition_Flag   10127      2  Existing Customer  8500\n",
       "Gender           10127      2                  F  5358\n",
       "Education_Level  10127      7           Graduate  3128\n",
       "Marital_Status   10127      4            Married  4687\n",
       "Income_Category  10127      6     Less than $40K  3561\n",
       "Card_Category    10127      4               Blue  9436"
      ]
     },
     "execution_count": 9,
     "metadata": {},
     "output_type": "execute_result"
    }
   ],
   "source": [
    "df_banck.describe(include='O').T"
   ]
  },
  {
   "cell_type": "code",
   "execution_count": 10,
   "id": "0b146b55-9cdd-47e0-a299-de1f3ba1a6c4",
   "metadata": {},
   "outputs": [
    {
     "data": {
      "text/plain": [
       "0          Blue\n",
       "6          Gold\n",
       "7        Silver\n",
       "443    Platinum\n",
       "Name: Card_Category, dtype: object"
      ]
     },
     "execution_count": 10,
     "metadata": {},
     "output_type": "execute_result"
    }
   ],
   "source": [
    "df_banck[\"Card_Category\"].drop_duplicates() "
   ]
  },
  {
   "cell_type": "code",
   "execution_count": 11,
   "id": "12627f24-f922-48cc-b159-b8f18d434916",
   "metadata": {},
   "outputs": [
    {
     "data": {
      "text/plain": [
       "0        $60K - $80K\n",
       "1     Less than $40K\n",
       "2       $80K - $120K\n",
       "5        $40K - $60K\n",
       "6            $120K +\n",
       "19           Unknown\n",
       "Name: Income_Category, dtype: object"
      ]
     },
     "execution_count": 11,
     "metadata": {},
     "output_type": "execute_result"
    }
   ],
   "source": [
    "# necesitamos hacer la sustitucion del simbolo +, por la constistencia de los datos (al aprecer es la unica con inconsistencias)\n",
    "# ademas de realizar otros cambios\n",
    "df_banck[\"Income_Category\"].drop_duplicates() "
   ]
  },
  {
   "cell_type": "code",
   "execution_count": 12,
   "id": "5ac0cc8f-0621-4556-82ac-70d37d273568",
   "metadata": {},
   "outputs": [],
   "source": [
    "df_banck[\"Income_Category\"]=df_banck[\"Income_Category\"].str.replace('$120K +','Greater than 120K',regex=False)"
   ]
  },
  {
   "cell_type": "code",
   "execution_count": 13,
   "id": "d9ec1fea-7184-4133-a719-21fef93f33c2",
   "metadata": {},
   "outputs": [],
   "source": [
    "df_banck[\"Income_Category\"]=df_banck[\"Income_Category\"].str.replace('$60K - $80K','60K - 80K',regex=False)"
   ]
  },
  {
   "cell_type": "code",
   "execution_count": 14,
   "id": "1e38c2d3-8300-4394-a873-a9d2843a60f7",
   "metadata": {},
   "outputs": [],
   "source": [
    "df_banck[\"Income_Category\"]=df_banck[\"Income_Category\"].str.replace('$80K - $120K','80K - 120K',regex=False)"
   ]
  },
  {
   "cell_type": "code",
   "execution_count": 15,
   "id": "673b85f4-e48c-4575-997c-76c43cf337b0",
   "metadata": {},
   "outputs": [],
   "source": [
    "df_banck[\"Income_Category\"]=df_banck[\"Income_Category\"].str.replace('$40K - $60K','40K - 60K',regex=False)"
   ]
  },
  {
   "cell_type": "code",
   "execution_count": 16,
   "id": "9019ae92-b4b2-43e5-9960-90ae5c0e0ea2",
   "metadata": {},
   "outputs": [],
   "source": [
    "df_banck[\"Income_Category\"]=df_banck[\"Income_Category\"].str.replace('Less than $40K','Less than 40K',regex=False)"
   ]
  },
  {
   "cell_type": "code",
   "execution_count": 17,
   "id": "5434a770-6ca8-4f27-aff0-cf2f4887d176",
   "metadata": {},
   "outputs": [
    {
     "data": {
      "text/plain": [
       "0             60K - 80K\n",
       "1         Less than 40K\n",
       "2            80K - 120K\n",
       "5             40K - 60K\n",
       "6     Greater than 120K\n",
       "19              Unknown\n",
       "Name: Income_Category, dtype: object"
      ]
     },
     "execution_count": 17,
     "metadata": {},
     "output_type": "execute_result"
    }
   ],
   "source": [
    "df_banck[\"Income_Category\"].drop_duplicates() "
   ]
  },
  {
   "cell_type": "markdown",
   "id": "199e8dab-22b1-4efd-b1f8-d321d9d81525",
   "metadata": {},
   "source": [
    "# Trate las variables nulas:\n",
    "### o En caso de que la columna tenga mas del 90% de valores nulos excluir \n",
    "### o En caso de que se variable numérica, identifique alguna buena estrateficacion para remplazar los valores nulos por el valor de la mediana \n",
    "### o En caso de que sean variables categóricas reemplazar por el valor “others”\n"
   ]
  },
  {
   "cell_type": "code",
   "execution_count": 18,
   "id": "a02887f7-9d9e-40b6-996c-5a937d0f62c6",
   "metadata": {},
   "outputs": [
    {
     "data": {
      "text/plain": [
       "CLIENTNUM                                                                                                                             0.0\n",
       "Attrition_Flag                                                                                                                        0.0\n",
       "Customer_Age                                                                                                                          0.0\n",
       "Gender                                                                                                                                0.0\n",
       "Dependent_count                                                                                                                       0.0\n",
       "Education_Level                                                                                                                       0.0\n",
       "Marital_Status                                                                                                                        0.0\n",
       "Income_Category                                                                                                                       0.0\n",
       "Card_Category                                                                                                                         0.0\n",
       "Months_on_book                                                                                                                        0.0\n",
       "Total_Relationship_Count                                                                                                              0.0\n",
       "Months_Inactive_12_mon                                                                                                                0.0\n",
       "Contacts_Count_12_mon                                                                                                                 0.0\n",
       "Credit_Limit                                                                                                                          0.0\n",
       "Total_Revolving_Bal                                                                                                                   0.0\n",
       "Avg_Open_To_Buy                                                                                                                       0.0\n",
       "Total_Amt_Chng_Q4_Q1                                                                                                                  0.0\n",
       "Total_Trans_Amt                                                                                                                       0.0\n",
       "Total_Trans_Ct                                                                                                                        0.0\n",
       "Total_Ct_Chng_Q4_Q1                                                                                                                   0.0\n",
       "Avg_Utilization_Ratio                                                                                                                 0.0\n",
       "Naive_Bayes_Classifier_Attrition_Flag_Card_Category_Contacts_Count_12_mon_Dependent_count_Education_Level_Months_Inactive_12_mon_1    0.0\n",
       "Naive_Bayes_Classifier_Attrition_Flag_Card_Category_Contacts_Count_12_mon_Dependent_count_Education_Level_Months_Inactive_12_mon_2    0.0\n",
       "dtype: float64"
      ]
     },
     "execution_count": 18,
     "metadata": {},
     "output_type": "execute_result"
    }
   ],
   "source": [
    "df_banck.isnull().sum()/df_banck.shape[0]"
   ]
  },
  {
   "cell_type": "code",
   "execution_count": 19,
   "id": "c294aa56-7760-4198-a2ba-117e404b13d1",
   "metadata": {},
   "outputs": [],
   "source": [
    "df_banck.loc[df_banck[\"Marital_Status\"].str.contains(\"Unknown\"),[\"Marital_Status\"]] = None"
   ]
  },
  {
   "cell_type": "code",
   "execution_count": 20,
   "id": "b57e27ad-87b1-4cac-bd4e-0fb01e2258bb",
   "metadata": {},
   "outputs": [],
   "source": [
    "df_banck.loc[df_banck[\"Income_Category\"].str.contains(\"Unknown\"),[\"Income_Category\"]]  = None"
   ]
  },
  {
   "cell_type": "code",
   "execution_count": null,
   "id": "b6f2f4a5-6fbe-48e8-a355-033b78770dec",
   "metadata": {},
   "outputs": [],
   "source": []
  },
  {
   "cell_type": "code",
   "execution_count": 21,
   "id": "af7a4d31-558b-47b7-b680-7c6ffea9dc6e",
   "metadata": {},
   "outputs": [],
   "source": [
    "df_banck.loc[df_banck[\"Education_Level\"].str.contains(\"Unknown\"),[\"Education_Level\"]] = None"
   ]
  },
  {
   "cell_type": "code",
   "execution_count": 22,
   "id": "48a08c30-7b9c-49da-bdea-6013f2158685",
   "metadata": {},
   "outputs": [
    {
     "data": {
      "text/plain": [
       "CLIENTNUM                                                                                                                              0.000000\n",
       "Attrition_Flag                                                                                                                         0.000000\n",
       "Customer_Age                                                                                                                           0.000000\n",
       "Gender                                                                                                                                 0.000000\n",
       "Dependent_count                                                                                                                        0.000000\n",
       "Education_Level                                                                                                                       14.999506\n",
       "Marital_Status                                                                                                                         7.396070\n",
       "Income_Category                                                                                                                       10.980547\n",
       "Card_Category                                                                                                                          0.000000\n",
       "Months_on_book                                                                                                                         0.000000\n",
       "Total_Relationship_Count                                                                                                               0.000000\n",
       "Months_Inactive_12_mon                                                                                                                 0.000000\n",
       "Contacts_Count_12_mon                                                                                                                  0.000000\n",
       "Credit_Limit                                                                                                                           0.000000\n",
       "Total_Revolving_Bal                                                                                                                    0.000000\n",
       "Avg_Open_To_Buy                                                                                                                        0.000000\n",
       "Total_Amt_Chng_Q4_Q1                                                                                                                   0.000000\n",
       "Total_Trans_Amt                                                                                                                        0.000000\n",
       "Total_Trans_Ct                                                                                                                         0.000000\n",
       "Total_Ct_Chng_Q4_Q1                                                                                                                    0.000000\n",
       "Avg_Utilization_Ratio                                                                                                                  0.000000\n",
       "Naive_Bayes_Classifier_Attrition_Flag_Card_Category_Contacts_Count_12_mon_Dependent_count_Education_Level_Months_Inactive_12_mon_1     0.000000\n",
       "Naive_Bayes_Classifier_Attrition_Flag_Card_Category_Contacts_Count_12_mon_Dependent_count_Education_Level_Months_Inactive_12_mon_2     0.000000\n",
       "dtype: float64"
      ]
     },
     "execution_count": 22,
     "metadata": {},
     "output_type": "execute_result"
    }
   ],
   "source": [
    "(df_banck.isnull().sum()/df_banck.shape[0])*100"
   ]
  },
  {
   "cell_type": "code",
   "execution_count": 23,
   "id": "44164d89-4ac2-405b-950b-45701c62a734",
   "metadata": {},
   "outputs": [],
   "source": [
    "df_banck.loc[df_banck[\"Education_Level\"].isnull(),[\"Education_Level\"]] = \"others\""
   ]
  },
  {
   "cell_type": "code",
   "execution_count": 24,
   "id": "26b549ae-5d87-4ea3-954d-64597619c9d5",
   "metadata": {},
   "outputs": [],
   "source": [
    "df_banck.loc[df_banck[\"Income_Category\"].isnull(),[\"Income_Category\"]] = \"others\""
   ]
  },
  {
   "cell_type": "code",
   "execution_count": 25,
   "id": "5734236b-7b3e-4a6d-b4c3-bec50a3232d9",
   "metadata": {},
   "outputs": [],
   "source": [
    "df_banck.loc[df_banck[\"Marital_Status\"].isnull(),[\"Marital_Status\"]] = \"others\""
   ]
  },
  {
   "cell_type": "markdown",
   "id": "7c91696b-0aba-40d6-b643-a7f89e1341b8",
   "metadata": {},
   "source": [
    "# -Limpie las variables numéricas:\n",
    "### o Identifique y explique una buena estratificación de cómo debería de ser analizado los valores numéricos continuos.\n",
    "### o En caso de que en esas estratificaciones para los valores numéricos continuos hayan valores atípicos, remplazarlos por la media.\n"
   ]
  },
  {
   "cell_type": "code",
   "execution_count": 26,
   "id": "fef5e23e-c0e7-4817-b067-8aa22cc9b1e2",
   "metadata": {},
   "outputs": [
    {
     "data": {
      "text/html": [
       "<div>\n",
       "<style scoped>\n",
       "    .dataframe tbody tr th:only-of-type {\n",
       "        vertical-align: middle;\n",
       "    }\n",
       "\n",
       "    .dataframe tbody tr th {\n",
       "        vertical-align: top;\n",
       "    }\n",
       "\n",
       "    .dataframe thead th {\n",
       "        text-align: right;\n",
       "    }\n",
       "</style>\n",
       "<table border=\"1\" class=\"dataframe\">\n",
       "  <thead>\n",
       "    <tr style=\"text-align: right;\">\n",
       "      <th></th>\n",
       "      <th>count</th>\n",
       "      <th>unique</th>\n",
       "      <th>top</th>\n",
       "      <th>freq</th>\n",
       "    </tr>\n",
       "  </thead>\n",
       "  <tbody>\n",
       "    <tr>\n",
       "      <th>Attrition_Flag</th>\n",
       "      <td>10127</td>\n",
       "      <td>2</td>\n",
       "      <td>Existing Customer</td>\n",
       "      <td>8500</td>\n",
       "    </tr>\n",
       "    <tr>\n",
       "      <th>Gender</th>\n",
       "      <td>10127</td>\n",
       "      <td>2</td>\n",
       "      <td>F</td>\n",
       "      <td>5358</td>\n",
       "    </tr>\n",
       "    <tr>\n",
       "      <th>Education_Level</th>\n",
       "      <td>10127</td>\n",
       "      <td>7</td>\n",
       "      <td>Graduate</td>\n",
       "      <td>3128</td>\n",
       "    </tr>\n",
       "    <tr>\n",
       "      <th>Marital_Status</th>\n",
       "      <td>10127</td>\n",
       "      <td>4</td>\n",
       "      <td>Married</td>\n",
       "      <td>4687</td>\n",
       "    </tr>\n",
       "    <tr>\n",
       "      <th>Income_Category</th>\n",
       "      <td>10127</td>\n",
       "      <td>6</td>\n",
       "      <td>Less than 40K</td>\n",
       "      <td>3561</td>\n",
       "    </tr>\n",
       "    <tr>\n",
       "      <th>Card_Category</th>\n",
       "      <td>10127</td>\n",
       "      <td>4</td>\n",
       "      <td>Blue</td>\n",
       "      <td>9436</td>\n",
       "    </tr>\n",
       "  </tbody>\n",
       "</table>\n",
       "</div>"
      ],
      "text/plain": [
       "                 count unique                top  freq\n",
       "Attrition_Flag   10127      2  Existing Customer  8500\n",
       "Gender           10127      2                  F  5358\n",
       "Education_Level  10127      7           Graduate  3128\n",
       "Marital_Status   10127      4            Married  4687\n",
       "Income_Category  10127      6      Less than 40K  3561\n",
       "Card_Category    10127      4               Blue  9436"
      ]
     },
     "execution_count": 26,
     "metadata": {},
     "output_type": "execute_result"
    }
   ],
   "source": [
    "df_banck.describe(include='O').T"
   ]
  },
  {
   "cell_type": "code",
   "execution_count": 27,
   "id": "6b23dfaf-63f5-4368-9991-4143ab4dba11",
   "metadata": {},
   "outputs": [
    {
     "data": {
      "text/plain": [
       "Existing Customer    0.83934\n",
       "Attrited Customer    0.16066\n",
       "Name: Attrition_Flag, dtype: float64"
      ]
     },
     "execution_count": 27,
     "metadata": {},
     "output_type": "execute_result"
    }
   ],
   "source": [
    "df_banck[\"Attrition_Flag\"].value_counts()/df_banck.shape[0]"
   ]
  },
  {
   "cell_type": "code",
   "execution_count": null,
   "id": "177b1d83-c8b5-416b-a39e-b9473a095e72",
   "metadata": {},
   "outputs": [],
   "source": []
  },
  {
   "cell_type": "code",
   "execution_count": 28,
   "id": "3eb31b90-578c-419c-9c56-ecf6729852d8",
   "metadata": {},
   "outputs": [
    {
     "data": {
      "text/plain": [
       "Married     0.462822\n",
       "Single      0.389355\n",
       "others      0.073961\n",
       "Divorced    0.073862\n",
       "Name: Marital_Status, dtype: float64"
      ]
     },
     "execution_count": 28,
     "metadata": {},
     "output_type": "execute_result"
    }
   ],
   "source": [
    "df_banck[\"Marital_Status\"].value_counts()/df_banck.shape[0]"
   ]
  },
  {
   "cell_type": "code",
   "execution_count": 29,
   "id": "f856ede1-662e-4620-9740-7840769b8c38",
   "metadata": {},
   "outputs": [
    {
     "data": {
      "text/plain": [
       "Graduate         0.308877\n",
       "High School      0.198776\n",
       "others           0.149995\n",
       "Uneducated       0.146835\n",
       "College          0.100030\n",
       "Post-Graduate    0.050953\n",
       "Doctorate        0.044534\n",
       "Name: Education_Level, dtype: float64"
      ]
     },
     "execution_count": 29,
     "metadata": {},
     "output_type": "execute_result"
    }
   ],
   "source": [
    "df_banck[\"Education_Level\"].value_counts()/df_banck.shape[0]"
   ]
  },
  {
   "cell_type": "code",
   "execution_count": null,
   "id": "59cdb914-99f2-4e34-8ac7-143ee6883ebc",
   "metadata": {},
   "outputs": [],
   "source": []
  },
  {
   "cell_type": "code",
   "execution_count": 30,
   "id": "a51e43a0-4055-4de5-89a1-92b23e49c0f4",
   "metadata": {},
   "outputs": [
    {
     "data": {
      "text/plain": [
       "Less than 40K        0.351634\n",
       "40K - 60K            0.176755\n",
       "80K - 120K           0.151575\n",
       "60K - 80K            0.138442\n",
       "others               0.109805\n",
       "Greater than 120K    0.071788\n",
       "Name: Income_Category, dtype: float64"
      ]
     },
     "execution_count": 30,
     "metadata": {},
     "output_type": "execute_result"
    }
   ],
   "source": [
    "df_banck[\"Income_Category\"].value_counts()/df_banck.shape[0]"
   ]
  },
  {
   "cell_type": "code",
   "execution_count": 31,
   "id": "3a7f5c59-5e5d-4fff-88cf-c20f6131c399",
   "metadata": {},
   "outputs": [
    {
     "data": {
      "text/plain": [
       "Blue        0.931767\n",
       "Silver      0.054804\n",
       "Gold        0.011455\n",
       "Platinum    0.001975\n",
       "Name: Card_Category, dtype: float64"
      ]
     },
     "execution_count": 31,
     "metadata": {},
     "output_type": "execute_result"
    }
   ],
   "source": [
    "df_banck[\"Card_Category\"].value_counts()/df_banck.shape[0]"
   ]
  },
  {
   "cell_type": "code",
   "execution_count": 32,
   "id": "e365a907-dd88-42ba-9d24-779b8b165444",
   "metadata": {},
   "outputs": [
    {
     "data": {
      "text/plain": [
       "F    0.529081\n",
       "M    0.470919\n",
       "Name: Gender, dtype: float64"
      ]
     },
     "execution_count": 32,
     "metadata": {},
     "output_type": "execute_result"
    }
   ],
   "source": [
    "df_banck[\"Gender\"].value_counts()/df_banck.shape[0]"
   ]
  },
  {
   "cell_type": "code",
   "execution_count": 33,
   "id": "9d616a00-eb83-4d30-bd27-05fca900b1b4",
   "metadata": {},
   "outputs": [
    {
     "data": {
      "text/plain": [
       "3    0.269774\n",
       "2    0.262170\n",
       "1    0.181495\n",
       "4    0.155426\n",
       "0    0.089266\n",
       "5    0.041868\n",
       "Name: Dependent_count, dtype: float64"
      ]
     },
     "execution_count": 33,
     "metadata": {},
     "output_type": "execute_result"
    }
   ],
   "source": [
    "df_banck[\"Dependent_count\"].value_counts()/df_banck.shape[0]"
   ]
  },
  {
   "cell_type": "code",
   "execution_count": 36,
   "id": "740d3994-49ff-4556-ae87-e33ff0b8556a",
   "metadata": {},
   "outputs": [
    {
     "data": {
      "text/plain": [
       "3    37.977683\n",
       "2    32.408413\n",
       "1    22.049965\n",
       "4     4.295448\n",
       "5     1.757677\n",
       "6     1.224449\n",
       "0     0.286363\n",
       "Name: Months_Inactive_12_mon, dtype: float64"
      ]
     },
     "execution_count": 36,
     "metadata": {},
     "output_type": "execute_result"
    }
   ],
   "source": [
    "(df_banck[\"Months_Inactive_12_mon\"].value_counts()/df_banck.shape[0])*100"
   ]
  },
  {
   "cell_type": "code",
   "execution_count": 85,
   "id": "db16f127-5057-4fce-9f0a-7b6a9488570b",
   "metadata": {},
   "outputs": [],
   "source": [
    "# limpiando agunos datos menores \n",
    "df_limpio=df_banck.loc[(df_banck[\"Months_Inactive_12_mon\"]!=0)&(df_banck[\"Education_Level\"]!=\"Doctorate\")&(df_banck[\"Card_Category\"]!=\"Platinum\")&(df_banck[\"Card_Category\"]!=\"Gold\"),:]"
   ]
  },
  {
   "cell_type": "code",
   "execution_count": null,
   "id": "5c14f26b-cd7d-4c96-88f6-1ac61721774d",
   "metadata": {},
   "outputs": [],
   "source": []
  },
  {
   "cell_type": "markdown",
   "id": "53e2b928-eb48-4145-9e4d-fc9932b2be9d",
   "metadata": {},
   "source": [
    "# =========================================================================================================================================\n",
    "## Avg_Open_To_Buy\n",
    "# ========================================================================================================================================="
   ]
  },
  {
   "cell_type": "code",
   "execution_count": 86,
   "id": "c6884201-4831-43f1-92c3-0ff2cbbd6de3",
   "metadata": {},
   "outputs": [
    {
     "data": {
      "text/plain": [
       "{'whiskers': [<matplotlib.lines.Line2D at 0x25703bfd400>,\n",
       "  <matplotlib.lines.Line2D at 0x25703bfd6d0>],\n",
       " 'caps': [<matplotlib.lines.Line2D at 0x25703bfd9a0>,\n",
       "  <matplotlib.lines.Line2D at 0x25703bfdc70>],\n",
       " 'boxes': [<matplotlib.lines.Line2D at 0x25703bf1040>],\n",
       " 'medians': [<matplotlib.lines.Line2D at 0x25703bfdf40>],\n",
       " 'fliers': [<matplotlib.lines.Line2D at 0x25703c0b250>],\n",
       " 'means': []}"
      ]
     },
     "execution_count": 86,
     "metadata": {},
     "output_type": "execute_result"
    },
    {
     "data": {
      "image/png": "[encoded data removed]",
      "text/plain": [
       "<Figure size 432x288 with 1 Axes>"
      ]
     },
     "metadata": {
      "needs_background": "light"
     },
     "output_type": "display_data"
    }
   ],
   "source": [
    "plt.boxplot(df_limpio[\"Avg_Open_To_Buy\"])"
   ]
  },
  {
   "cell_type": "code",
   "execution_count": 87,
   "id": "bba97406-4127-4688-9392-f8a7a8656d0a",
   "metadata": {},
   "outputs": [
    {
     "data": {
      "text/plain": [
       "<AxesSubplot:xlabel='Months_Inactive_12_mon', ylabel='Avg_Open_To_Buy'>"
      ]
     },
     "execution_count": 87,
     "metadata": {},
     "output_type": "execute_result"
    },
    {
     "data": {
      "image/png": "[encoded data removed]",
      "text/plain": [
       "<Figure size 432x288 with 1 Axes>"
      ]
     },
     "metadata": {
      "needs_background": "light"
     },
     "output_type": "display_data"
    }
   ],
   "source": [
    "sns.boxplot(data= df_limpio ,x=\"Months_Inactive_12_mon\",y=\"Avg_Open_To_Buy\")"
   ]
  },
  {
   "cell_type": "markdown",
   "id": "c80f7305-6aa9-4309-ae76-f0e16cc2c710",
   "metadata": {},
   "source": [
    "### para segmentar la informacion, tomamos algunas variables, demograficas de los clientes, como la categoria de ingreso, el numeor de dependiente, el nivel de educacion  y su estado civil, de esa manera los clientes los \"clasificamos\" en diferentes grupos para poder observar el compartamiento de el numero de meses de inactividad y el promedio de la linea de credio abierta en los ultimos 12 meses (Avg_Open_To_Buy), en funcion de estos grupos"
   ]
  },
  {
   "cell_type": "code",
   "execution_count": 143,
   "id": "89674181-ec6f-41c7-b71a-03c735326b32",
   "metadata": {},
   "outputs": [
    {
     "data": {
      "text/plain": [
       "<AxesSubplot:xlabel='Months_Inactive_12_mon', ylabel='Avg_Open_To_Buy'>"
      ]
     },
     "execution_count": 143,
     "metadata": {},
     "output_type": "execute_result"
    },
    {
     "data": {
      "image/png": "[encoded data removed]",
      "text/plain": [
       "<Figure size 432x288 with 1 Axes>"
      ]
     },
     "metadata": {
      "needs_background": "light"
     },
     "output_type": "display_data"
    }
   ],
   "source": [
    "\n",
    "sns.boxplot(data= df_limpio.loc[(df_limpio[\"Income_Category\"]==\"Less than 40K\")&(df_limpio[\"Dependent_count\"]==3)&(df_limpio[\"Education_Level\"]==\"Graduate\")&(df_limpio[\"Marital_Status\"]==\"Married\"),:] ,x=\"Months_Inactive_12_mon\",y=\"Avg_Open_To_Buy\")"
   ]
  },
  {
   "cell_type": "code",
   "execution_count": null,
   "id": "c6c00130-9fac-4c53-8096-9444218238c5",
   "metadata": {},
   "outputs": [],
   "source": []
  },
  {
   "cell_type": "code",
   "execution_count": 89,
   "id": "0cee8dbf-7211-47ae-9c70-ff292bf931bf",
   "metadata": {},
   "outputs": [],
   "source": [
    "dfq1=df_limpio.loc[:,[\"Income_Category\",\"Dependent_count\",\"Months_Inactive_12_mon\",\"Marital_Status\",\"Education_Level\",\"Avg_Open_To_Buy\"]].groupby([\"Income_Category\",\"Dependent_count\",\"Months_Inactive_12_mon\",\"Marital_Status\",\"Education_Level\"],as_index=False).quantile(0.25)\n",
    "dfq1.columns=[\"Income_Category\",\"Dependent_count\",\"Months_Inactive_12_mon\",\"Marital_Status\",\"Education_Level\",\"Avg_Open_To_Buy_q1\"]"
   ]
  },
  {
   "cell_type": "code",
   "execution_count": 90,
   "id": "b78a6e97-3987-4df9-98fa-8db2985ff03a",
   "metadata": {},
   "outputs": [],
   "source": [
    "dfq3=df_limpio.loc[:,[\"Income_Category\",\"Dependent_count\",\"Months_Inactive_12_mon\",\"Marital_Status\",\"Education_Level\",\"Avg_Open_To_Buy\"]].groupby([\"Income_Category\",\"Dependent_count\",\"Months_Inactive_12_mon\",\"Marital_Status\",\"Education_Level\"],as_index=False).quantile(0.75)\n",
    "dfq3.columns=[\"Income_Category\",\"Dependent_count\",\"Months_Inactive_12_mon\",\"Marital_Status\",\"Education_Level\",\"Avg_Open_To_Buy_q3\"]"
   ]
  },
  {
   "cell_type": "code",
   "execution_count": 91,
   "id": "b7c49681-19d8-40ed-a223-18e54abc2726",
   "metadata": {},
   "outputs": [],
   "source": [
    "dfqmean=df_limpio.loc[:,[\"Income_Category\",\"Dependent_count\",\"Months_Inactive_12_mon\",\"Marital_Status\",\"Education_Level\",\"Avg_Open_To_Buy\"]].groupby([\"Income_Category\",\"Dependent_count\",\"Months_Inactive_12_mon\",\"Marital_Status\",\"Education_Level\"],as_index=False).mean()\n",
    "dfqmean.columns=[\"Income_Category\",\"Dependent_count\",\"Months_Inactive_12_mon\",\"Marital_Status\",\"Education_Level\",\"Avg_Open_To_Buy_mean\"]"
   ]
  },
  {
   "cell_type": "code",
   "execution_count": 92,
   "id": "3d0f23e6-d206-4ac0-a215-9dee0e155f4f",
   "metadata": {
    "tags": []
   },
   "outputs": [],
   "source": [
    "df_iqr=dfq1.merge(dfq3,on=[\"Income_Category\",\"Dependent_count\",\"Months_Inactive_12_mon\",\"Marital_Status\",\"Education_Level\"],how=\"inner\").merge(dfqmean,on=[\"Income_Category\",\"Dependent_count\",\"Months_Inactive_12_mon\",\"Marital_Status\",\"Education_Level\"],how=\"inner\")"
   ]
  },
  {
   "cell_type": "code",
   "execution_count": 93,
   "id": "62b9e32d-41d8-4bfe-857b-4aa9451a4604",
   "metadata": {},
   "outputs": [],
   "source": [
    "df_iqr[\"iqr\"] = df_iqr.apply( lambda r: r[\"Avg_Open_To_Buy_q3\"] - r[\"Avg_Open_To_Buy_q1\"] , axis = 1)"
   ]
  },
  {
   "cell_type": "code",
   "execution_count": 94,
   "id": "7a28a7a7-1f4c-41ec-8c9c-b676a7d93efd",
   "metadata": {},
   "outputs": [],
   "source": [
    "df_iqr[\"upper_bound_avg\"] = df_iqr.apply( lambda r:  r[\"Avg_Open_To_Buy_q3\"] + (1.5*r[\"iqr\"] ) , axis = 1)\n",
    "df_iqr[\"lower_bound_avg\"] = df_iqr.apply( lambda r:  r[\"Avg_Open_To_Buy_q1\"] - (1.5*r[\"iqr\"] ) , axis = 1)"
   ]
  },
  {
   "cell_type": "code",
   "execution_count": 95,
   "id": "c769bd4b-9fb5-4464-9c5b-ca6684830c94",
   "metadata": {},
   "outputs": [],
   "source": [
    "df_t = df_limpio.merge( df_iqr , on=[\"Income_Category\",\"Dependent_count\",\"Months_Inactive_12_mon\",\"Marital_Status\",\"Education_Level\"] , how=\"left\" ).copy()"
   ]
  },
  {
   "cell_type": "code",
   "execution_count": 96,
   "id": "dc21b837-6104-4139-99de-ce6dfbd4ef9e",
   "metadata": {},
   "outputs": [],
   "source": [
    "def get_real_avg(r):\n",
    "    if (r[\"Avg_Open_To_Buy\"]<r[\"lower_bound_avg\"]) | (r[\"Avg_Open_To_Buy\"]>r[\"upper_bound_avg\"]):\n",
    "        return r[\"Avg_Open_To_Buy_mean\"]\n",
    "    else:\n",
    "        return r[\"Avg_Open_To_Buy\"]"
   ]
  },
  {
   "cell_type": "code",
   "execution_count": 97,
   "id": "8f72de36-1ac2-4f7e-ae8e-e86362fd1c74",
   "metadata": {},
   "outputs": [],
   "source": [
    "df_t[\"n_avg_open_to_buy\"]=df_t.apply( lambda r: get_real_avg(r) , axis = 1 )"
   ]
  },
  {
   "cell_type": "code",
   "execution_count": 98,
   "id": "38eed025-e812-4552-b76f-fee0dcc1ad80",
   "metadata": {},
   "outputs": [
    {
     "data": {
      "text/plain": [
       "<AxesSubplot:xlabel='Months_Inactive_12_mon', ylabel='Avg_Open_To_Buy'>"
      ]
     },
     "execution_count": 98,
     "metadata": {},
     "output_type": "execute_result"
    },
    {
     "data": {
      "image/png": "[encoded data removed]",
      "text/plain": [
       "<Figure size 432x288 with 1 Axes>"
      ]
     },
     "metadata": {
      "needs_background": "light"
     },
     "output_type": "display_data"
    }
   ],
   "source": [
    "\n",
    "sns.boxplot(data= df_t.loc[(df_t[\"Income_Category\"]==\"Less than 40K\")&(df_t[\"Dependent_count\"]==3)&(df_t[\"Marital_Status\"]==\"Married\")&(df_t[\"Education_Level\"]==\"Graduate\"),:] ,x=\"Months_Inactive_12_mon\",y=\"Avg_Open_To_Buy\")"
   ]
  },
  {
   "cell_type": "code",
   "execution_count": 99,
   "id": "4ef2848f-a859-4967-bfe4-3daaf7f1b4fa",
   "metadata": {},
   "outputs": [
    {
     "data": {
      "text/plain": [
       "<AxesSubplot:xlabel='Months_Inactive_12_mon', ylabel='n_avg_open_to_buy'>"
      ]
     },
     "execution_count": 99,
     "metadata": {},
     "output_type": "execute_result"
    },
    {
     "data": {
      "image/png": "[encoded data removed]",
      "text/plain": [
       "<Figure size 432x288 with 1 Axes>"
      ]
     },
     "metadata": {
      "needs_background": "light"
     },
     "output_type": "display_data"
    }
   ],
   "source": [
    "\n",
    "sns.boxplot(data= df_t.loc[(df_t[\"Income_Category\"]==\"Less than 40K\")&(df_t[\"Dependent_count\"]==3)&(df_t[\"Marital_Status\"]==\"Married\")&(df_t[\"Education_Level\"]==\"Graduate\"),:] ,x=\"Months_Inactive_12_mon\",y=\"n_avg_open_to_buy\")"
   ]
  },
  {
   "cell_type": "markdown",
   "id": "9dc60c06-bfe5-4071-93dc-b54af750c0ca",
   "metadata": {},
   "source": [
    "# =========================================================================================================================================\n",
    "## Credit_Limit\n",
    "# ========================================================================================================================================="
   ]
  },
  {
   "cell_type": "markdown",
   "id": "2d9caf0a-f4e0-40a7-a24d-02b0b4f89b36",
   "metadata": {},
   "source": [
    "### Estratificamos los clientes en base a su categoria de tarjeta, sus ingresos y la antiguedad del cliente, esto nos pemitira hacer comparaciones en base a la antiguedad e ingresos de un cliente ya que se esperaria que un cliente con mayor antiguedad y ademas tenga ingresos arriba de 120k tenga un limite de credito mayor a diferencia de un cliente que tiene poca antiguedad y ademas sus ingresos son inferiores a 40k "
   ]
  },
  {
   "cell_type": "code",
   "execution_count": 167,
   "id": "ea8ad860-2df3-458b-8735-7bef57de214b",
   "metadata": {},
   "outputs": [],
   "source": [
    "dfq1 = df_limpio.loc[ : , [\"Credit_Limit\",'Income_Category','Months_on_book'] ].groupby( ['Income_Category','Months_on_book'] , as_index = False ).quantile(0.25)\n",
    "dfq1.columns = ['Income_Category','Months_on_book',\"Credit_q1\"]"
   ]
  },
  {
   "cell_type": "code",
   "execution_count": 168,
   "id": "3ebfaef0-b05d-4982-88d0-401b94f46c02",
   "metadata": {},
   "outputs": [],
   "source": [
    "dfq3 = df_limpio.loc[ : , [\"Credit_Limit\",'Income_Category','Months_on_book'] ].groupby( ['Income_Category','Months_on_book'], as_index = False ).quantile(0.75)\n",
    "dfq3.columns = ['Income_Category','Months_on_book',\"Credit_q3\"]"
   ]
  },
  {
   "cell_type": "code",
   "execution_count": 169,
   "id": "48f108d5-5e83-4b38-83a4-2aaedbc068c0",
   "metadata": {},
   "outputs": [],
   "source": [
    "dfq2 = df_limpio.loc[ : , [\"Credit_Limit\",'Income_Category','Months_on_book'] ].groupby(['Income_Category','Months_on_book']  , as_index = False ).mean()\n",
    "dfq2.columns = ['Income_Category','Months_on_book',\"Credit_Mean\"]"
   ]
  },
  {
   "cell_type": "code",
   "execution_count": 170,
   "id": "5f724a53-318d-48d3-8a9a-dc7085ed626a",
   "metadata": {
    "tags": []
   },
   "outputs": [],
   "source": [
    "df_iqr = dfq1.merge( dfq3 , on=['Income_Category','Months_on_book'], how=\"inner\" ).merge( dfq2 , on=['Income_Category','Months_on_book'], how=\"inner\" )"
   ]
  },
  {
   "cell_type": "code",
   "execution_count": 171,
   "id": "0393b20a-278a-4969-a4ef-1304e6f99a6e",
   "metadata": {},
   "outputs": [],
   "source": [
    "df_iqr[\"iqr\"] = df_iqr.apply( lambda r: r[\"Credit_q3\"] - r[\"Credit_q1\"] , axis = 1)"
   ]
  },
  {
   "cell_type": "code",
   "execution_count": 172,
   "id": "c1408015-03ee-4413-b84c-958e8b0a9501",
   "metadata": {},
   "outputs": [],
   "source": [
    "df_iqr[\"upper\"] = df_iqr.apply( lambda r: ( r[\"Credit_q3\"] + 1.5*r[\"iqr\"] ) , axis = 1)\n",
    "df_iqr[\"lower\"] = df_iqr.apply( lambda r: ( r[\"Credit_q1\"] - 1.5*r[\"iqr\"] ) , axis = 1)"
   ]
  },
  {
   "cell_type": "code",
   "execution_count": 173,
   "id": "307e2c6f-6899-4cd6-bcb8-536d10e2b769",
   "metadata": {},
   "outputs": [],
   "source": [
    "df_t = df_limpio.merge( df_iqr , how=\"left\" , on=['Income_Category','Months_on_book'])"
   ]
  },
  {
   "cell_type": "code",
   "execution_count": 175,
   "id": "fcdb9605-1cc7-4cb0-b6ae-6f2eadb313c3",
   "metadata": {},
   "outputs": [],
   "source": [
    "def getRealCredit(r):\n",
    "    if ( r[\"Credit_Limit\"] <= r[\"lower\"] ) | ( r[\"Credit_Limit\"] >= r[\"upper\"] ):\n",
    "        return r[\"Credit_Mean\"]\n",
    "    else:\n",
    "        return r[\"Credit_Limit\"]"
   ]
  },
  {
   "cell_type": "code",
   "execution_count": 176,
   "id": "5c984d84-6535-47e2-89ee-1df61894e793",
   "metadata": {},
   "outputs": [
    {
     "data": {
      "text/plain": [
       "0       12691.000000\n",
       "1        3680.313514\n",
       "2        3418.000000\n",
       "3        3313.000000\n",
       "4        4716.000000\n",
       "            ...     \n",
       "9514     4003.000000\n",
       "9515     4277.000000\n",
       "9516     5409.000000\n",
       "9517     5281.000000\n",
       "9518     3780.929630\n",
       "Length: 9519, dtype: float64"
      ]
     },
     "execution_count": 176,
     "metadata": {},
     "output_type": "execute_result"
    }
   ],
   "source": [
    "df_t.apply( lambda r: getRealCredit(r) , axis = 1 )"
   ]
  },
  {
   "cell_type": "code",
   "execution_count": 177,
   "id": "a79732e7-479b-4307-bffc-50413de4d9d5",
   "metadata": {},
   "outputs": [],
   "source": [
    "df_t[\"new_Credit_limit\"] = df_t.apply( lambda r: getRealPrice(r) , axis = 1 )"
   ]
  },
  {
   "cell_type": "code",
   "execution_count": 180,
   "id": "b603a742-d4ae-4a90-9067-f797b1039be4",
   "metadata": {},
   "outputs": [
    {
     "data": {
      "text/plain": [
       "<AxesSubplot:xlabel='Months_on_book', ylabel='Credit_Limit'>"
      ]
     },
     "execution_count": 180,
     "metadata": {},
     "output_type": "execute_result"
    },
    {
     "data": {
      "image/png": "[encoded data removed]",
      "text/plain": [
       "<Figure size 432x288 with 1 Axes>"
      ]
     },
     "metadata": {
      "needs_background": "light"
     },
     "output_type": "display_data"
    }
   ],
   "source": [
    "sns.boxplot( data=df_limpio.loc[(df_limpio['Card_Category']=='Blue')  & (df_limpio['Income_Category']=='Less than 40K')  ,:]  , x=\"Months_on_book\" , y=\"Credit_Limit\" )"
   ]
  },
  {
   "cell_type": "code",
   "execution_count": 181,
   "id": "8e97a250-499d-41fc-9b41-36b51a79820d",
   "metadata": {},
   "outputs": [
    {
     "data": {
      "text/plain": [
       "<AxesSubplot:xlabel='Months_on_book', ylabel='new_Credit_limit'>"
      ]
     },
     "execution_count": 181,
     "metadata": {},
     "output_type": "execute_result"
    },
    {
     "data": {
      "image/png": "[encoded data removed]",
      "text/plain": [
       "<Figure size 432x288 with 1 Axes>"
      ]
     },
     "metadata": {
      "needs_background": "light"
     },
     "output_type": "display_data"
    }
   ],
   "source": [
    "sns.boxplot( data=df_t.loc[(df_t['Card_Category']=='Blue')  & (df_t['Income_Category']=='Less than 40K')  ,:]  , x=\"Months_on_book\" , y=\"new_Credit_limit\" )"
   ]
  },
  {
   "cell_type": "code",
   "execution_count": 182,
   "id": "e44cbc91-2748-484a-90c7-974ff746a213",
   "metadata": {},
   "outputs": [
    {
     "data": {
      "text/plain": [
       "<AxesSubplot:xlabel='Income_Category', ylabel='Credit_Limit'>"
      ]
     },
     "execution_count": 182,
     "metadata": {},
     "output_type": "execute_result"
    },
    {
     "data": {
      "image/png": "[encoded data removed]",
      "text/plain": [
       "<Figure size 432x288 with 1 Axes>"
      ]
     },
     "metadata": {
      "needs_background": "light"
     },
     "output_type": "display_data"
    }
   ],
   "source": [
    "sns.boxplot( data=df_limpio.loc[(dfbank1['Card_Category']=='Blue')  & (df_limpio['Months_on_book']==20)  ,:]  , x=\"Income_Category\" , y=\"Credit_Limit\" )"
   ]
  },
  {
   "cell_type": "code",
   "execution_count": 183,
   "id": "8b2cb2ed-e6f1-4562-a83a-4c728c916e9f",
   "metadata": {},
   "outputs": [
    {
     "data": {
      "text/plain": [
       "<AxesSubplot:xlabel='Income_Category', ylabel='new_Credit_limit'>"
      ]
     },
     "execution_count": 183,
     "metadata": {},
     "output_type": "execute_result"
    },
    {
     "data": {
      "image/png": "[encoded data removed]",
      "text/plain": [
       "<Figure size 432x288 with 1 Axes>"
      ]
     },
     "metadata": {
      "needs_background": "light"
     },
     "output_type": "display_data"
    }
   ],
   "source": [
    "sns.boxplot( data=df_t.loc[(df_t['Card_Category']=='Blue')  & (df_t['Months_on_book']==20)  ,:]  , x=\"Income_Category\" , y=\"new_Credit_limit\" )"
   ]
  },
  {
   "cell_type": "code",
   "execution_count": null,
   "id": "cf473728-b100-4ac1-9752-4edd29359989",
   "metadata": {},
   "outputs": [],
   "source": []
  },
  {
   "cell_type": "markdown",
   "id": "e45fc89d-2208-48d8-8f43-055a8c44927e",
   "metadata": {
    "tags": []
   },
   "source": [
    "# =========================================================================================================================================\n",
    "## total_Tans_Amt\n",
    "## esta variable contiene demaciados valores repetidos por lo que no va a ser tratada como, una variable continua \n",
    "# ========================================================================================================================================="
   ]
  },
  {
   "cell_type": "code",
   "execution_count": 68,
   "id": "986ca904-5aad-4f95-af7c-92e0350641bb",
   "metadata": {},
   "outputs": [
    {
     "data": {
      "text/plain": [
       "0.467858200849215"
      ]
     },
     "execution_count": 68,
     "metadata": {},
     "output_type": "execute_result"
    }
   ],
   "source": [
    "len(df_limpio[\"Total_Trans_Amt\"].value_counts())/df_banck.shape[0]"
   ]
  },
  {
   "cell_type": "markdown",
   "id": "7356287a-96d4-4ae9-b5ca-980c0cf4f161",
   "metadata": {
    "tags": []
   },
   "source": [
    "# =========================================================================================================================================\n",
    "## Avg_Utilization_Ratio\n",
    "##  \n",
    "# ========================================================================================================================================="
   ]
  },
  {
   "cell_type": "code",
   "execution_count": 69,
   "id": "ac9b92f7-9ddf-46cf-b4ab-aa52e05b1eeb",
   "metadata": {},
   "outputs": [
    {
     "data": {
      "text/html": [
       "<div>\n",
       "<style scoped>\n",
       "    .dataframe tbody tr th:only-of-type {\n",
       "        vertical-align: middle;\n",
       "    }\n",
       "\n",
       "    .dataframe tbody tr th {\n",
       "        vertical-align: top;\n",
       "    }\n",
       "\n",
       "    .dataframe thead th {\n",
       "        text-align: right;\n",
       "    }\n",
       "</style>\n",
       "<table border=\"1\" class=\"dataframe\">\n",
       "  <thead>\n",
       "    <tr style=\"text-align: right;\">\n",
       "      <th></th>\n",
       "      <th>Avg_Utilization_Ratio</th>\n",
       "    </tr>\n",
       "  </thead>\n",
       "  <tbody>\n",
       "    <tr>\n",
       "      <th>count</th>\n",
       "      <td>9123.000000</td>\n",
       "    </tr>\n",
       "    <tr>\n",
       "      <th>mean</th>\n",
       "      <td>0.279051</td>\n",
       "    </tr>\n",
       "    <tr>\n",
       "      <th>std</th>\n",
       "      <td>0.276915</td>\n",
       "    </tr>\n",
       "    <tr>\n",
       "      <th>min</th>\n",
       "      <td>0.000000</td>\n",
       "    </tr>\n",
       "    <tr>\n",
       "      <th>25%</th>\n",
       "      <td>0.023000</td>\n",
       "    </tr>\n",
       "    <tr>\n",
       "      <th>50%</th>\n",
       "      <td>0.183000</td>\n",
       "    </tr>\n",
       "    <tr>\n",
       "      <th>75%</th>\n",
       "      <td>0.510000</td>\n",
       "    </tr>\n",
       "    <tr>\n",
       "      <th>max</th>\n",
       "      <td>0.999000</td>\n",
       "    </tr>\n",
       "  </tbody>\n",
       "</table>\n",
       "</div>"
      ],
      "text/plain": [
       "       Avg_Utilization_Ratio\n",
       "count            9123.000000\n",
       "mean                0.279051\n",
       "std                 0.276915\n",
       "min                 0.000000\n",
       "25%                 0.023000\n",
       "50%                 0.183000\n",
       "75%                 0.510000\n",
       "max                 0.999000"
      ]
     },
     "execution_count": 69,
     "metadata": {},
     "output_type": "execute_result"
    }
   ],
   "source": [
    "df_limpio.loc[:,[\"Avg_Utilization_Ratio\"]].describe()"
   ]
  },
  {
   "cell_type": "code",
   "execution_count": 70,
   "id": "a51e4cd8-59d6-4bf4-bf45-9a3c4204e20d",
   "metadata": {},
   "outputs": [
    {
     "data": {
      "text/plain": [
       "{'whiskers': [<matplotlib.lines.Line2D at 0x2570380e550>,\n",
       "  <matplotlib.lines.Line2D at 0x2570380e820>],\n",
       " 'caps': [<matplotlib.lines.Line2D at 0x2570380eb20>,\n",
       "  <matplotlib.lines.Line2D at 0x2570380edf0>],\n",
       " 'boxes': [<matplotlib.lines.Line2D at 0x2570380e280>],\n",
       " 'medians': [<matplotlib.lines.Line2D at 0x25703816100>],\n",
       " 'fliers': [<matplotlib.lines.Line2D at 0x257038163d0>],\n",
       " 'means': []}"
      ]
     },
     "execution_count": 70,
     "metadata": {},
     "output_type": "execute_result"
    },
    {
     "data": {
      "image/png": "[encoded data removed]",
      "text/plain": [
       "<Figure size 432x288 with 1 Axes>"
      ]
     },
     "metadata": {
      "needs_background": "light"
     },
     "output_type": "display_data"
    }
   ],
   "source": [
    "plt.boxplot(df_limpio.loc[:,[\"Avg_Utilization_Ratio\"]])"
   ]
  },
  {
   "cell_type": "markdown",
   "id": "5ed3bddb-f61d-406a-9854-86a60fe76a19",
   "metadata": {},
   "source": [
    "### Estratificamos esta variable por el periodo de relacion de los clientes(\"Months_on_book\"), y lo filtramos por la categoria de ingresos anuales de cada cliente (\"Income_Category\")"
   ]
  },
  {
   "cell_type": "code",
   "execution_count": 284,
   "id": "8835bb4e-f207-4ade-b630-4ca35133aa2b",
   "metadata": {},
   "outputs": [
    {
     "data": {
      "text/plain": [
       "<AxesSubplot:xlabel='Months_on_book', ylabel='Avg_Utilization_Ratio'>"
      ]
     },
     "execution_count": 284,
     "metadata": {},
     "output_type": "execute_result"
    },
    {
     "data": {
      "image/png": "[encoded data removed]",
      "text/plain": [
       "<Figure size 432x288 with 1 Axes>"
      ]
     },
     "metadata": {
      "needs_background": "light"
     },
     "output_type": "display_data"
    }
   ],
   "source": [
    "sns.boxplot(data=df_limpio.loc[(df_limpio[\"Income_Category\"]==\"Greater than 120K\"),:], x=\"Months_on_book\",y=\"Avg_Utilization_Ratio\")"
   ]
  },
  {
   "cell_type": "markdown",
   "id": "185b33ba-9094-425e-970f-fe514a4ad774",
   "metadata": {},
   "source": [
    "### para lograr segmentar mas la informacion, agregamos otra variable demografica, como es el nivel de educacion (Education_Level) y los valores empiezan a desaparecer"
   ]
  },
  {
   "cell_type": "code",
   "execution_count": 279,
   "id": "288cbdf5-23b5-4552-bec8-cef3d2d36c33",
   "metadata": {},
   "outputs": [
    {
     "data": {
      "text/plain": [
       "<AxesSubplot:xlabel='Months_on_book', ylabel='Avg_Utilization_Ratio'>"
      ]
     },
     "execution_count": 279,
     "metadata": {},
     "output_type": "execute_result"
    },
    {
     "data": {
      "image/png": "[encoded data removed]",
      "text/plain": [
       "<Figure size 432x288 with 1 Axes>"
      ]
     },
     "metadata": {
      "needs_background": "light"
     },
     "output_type": "display_data"
    }
   ],
   "source": [
    "sns.boxplot(data=df_limpio.loc[(df_limpio[\"Education_Level\"]==\"High School\")&(df_limpio[\"Income_Category\"]==\"others\"),:], x=\"Months_on_book\",y=\"Avg_Utilization_Ratio\")"
   ]
  },
  {
   "cell_type": "code",
   "execution_count": 265,
   "id": "a6820866-74c5-4c3e-a1b1-d7dbf52fc35d",
   "metadata": {},
   "outputs": [],
   "source": [
    "dfq1=df_limpio.loc[:,[\"Education_Level\",\"Income_Category\",\"Months_on_book\",\"Avg_Utilization_Ratio\"]].groupby([\"Education_Level\",\"Income_Category\",\"Months_on_book\"],as_index=False).quantile(0.25)\n",
    "dfq1.columns = ['Education_Level', 'Income_Category', 'Months_on_book','Avg_Utilization_Ratio_q1']"
   ]
  },
  {
   "cell_type": "code",
   "execution_count": 266,
   "id": "11b3d8b5-f39c-4bd5-b449-03a9cbf3c747",
   "metadata": {},
   "outputs": [],
   "source": [
    "dfq3=df_limpio.loc[:,[\"Education_Level\",\"Income_Category\",\"Months_on_book\",\"Avg_Utilization_Ratio\"]].groupby([\"Education_Level\",\"Income_Category\",\"Months_on_book\"],as_index=False).quantile(0.75)\n",
    "dfq3.columns = ['Education_Level', 'Income_Category', 'Months_on_book','Avg_Utilization_Ratio_q3']"
   ]
  },
  {
   "cell_type": "code",
   "execution_count": 267,
   "id": "69a43dae-da6e-4b84-854c-abf83c0233f7",
   "metadata": {},
   "outputs": [],
   "source": [
    "dfqmean=df_limpio.loc[:,[\"Education_Level\",\"Income_Category\",\"Months_on_book\",\"Avg_Utilization_Ratio\"]].groupby([\"Education_Level\",\"Income_Category\",\"Months_on_book\"],as_index=False).mean()\n",
    "dfqmean.columns = ['Education_Level', 'Income_Category', 'Months_on_book','Avg_Utilization_Ratio_mean']"
   ]
  },
  {
   "cell_type": "code",
   "execution_count": 268,
   "id": "189f5d8e-5f1e-4707-bbb2-189bea15d458",
   "metadata": {
    "tags": []
   },
   "outputs": [],
   "source": [
    "df_iqr = dfq1.merge( dfq3 , on=[\"Education_Level\",\"Income_Category\",\"Months_on_book\"], how=\"inner\" ).merge( dfqmean , on=[\"Education_Level\",\"Income_Category\",\"Months_on_book\"], how=\"inner\" )"
   ]
  },
  {
   "cell_type": "code",
   "execution_count": 269,
   "id": "bfc7d44c-f86e-49c8-8227-da4af30bb5bc",
   "metadata": {},
   "outputs": [],
   "source": [
    "df_iqr[\"iqr\"] = df_iqr.apply( lambda r: r[\"Avg_Utilization_Ratio_q3\"] - r['Avg_Utilization_Ratio_q1'] , axis = 1)"
   ]
  },
  {
   "cell_type": "code",
   "execution_count": 270,
   "id": "6c4b1fca-1392-482f-9a42-c417e0f82387",
   "metadata": {},
   "outputs": [],
   "source": [
    "df_iqr[\"upper_avg\"] = df_iqr.apply( lambda r: ( r[\"Avg_Utilization_Ratio_q3\"] + 1.5*r[\"iqr\"] ) , axis = 1)\n",
    "df_iqr[\"lower_avg\"] = df_iqr.apply( lambda r: ( r[\"Avg_Utilization_Ratio_q1\"] - 1.5*r[\"iqr\"] ) , axis = 1)"
   ]
  },
  {
   "cell_type": "code",
   "execution_count": 272,
   "id": "cee8423d-e48e-4834-b5ee-afe124e3cb21",
   "metadata": {},
   "outputs": [],
   "source": [
    "df_t = df_limpio.merge( df_iqr , how=\"left\" , on=[\"Education_Level\",\"Income_Category\",\"Months_on_book\"])"
   ]
  },
  {
   "cell_type": "code",
   "execution_count": 273,
   "id": "3814bcbe-8827-4215-9171-83ddd5392b17",
   "metadata": {},
   "outputs": [],
   "source": [
    "def get_real_avg(r):\n",
    "    if ( r[\"Avg_Utilization_Ratio\"] <= r[\"lower_avg\"] ) | ( r[\"Avg_Utilization_Ratio\"] >= r[\"upper_avg\"] ):\n",
    "        return r[\"Avg_Utilization_Ratio_mean\"]\n",
    "    else:\n",
    "        return r[\"Avg_Utilization_Ratio\"]"
   ]
  },
  {
   "cell_type": "code",
   "execution_count": 274,
   "id": "093a8085-3c73-47cf-bddb-39cae84f962f",
   "metadata": {},
   "outputs": [
    {
     "data": {
      "text/plain": [
       "0       0.061\n",
       "1       0.105\n",
       "2       0.000\n",
       "3       0.760\n",
       "4       0.000\n",
       "        ...  \n",
       "9514    0.462\n",
       "9515    0.511\n",
       "9516    0.000\n",
       "9517    0.000\n",
       "9518    0.189\n",
       "Length: 9519, dtype: float64"
      ]
     },
     "execution_count": 274,
     "metadata": {},
     "output_type": "execute_result"
    }
   ],
   "source": [
    "df_t.apply( lambda r: get_real_avg(r) , axis = 1 )"
   ]
  },
  {
   "cell_type": "code",
   "execution_count": 276,
   "id": "eb5c46c1-deca-42ca-9478-cb7eeb0dfda7",
   "metadata": {},
   "outputs": [],
   "source": [
    "df_t[\"n_avg_utilization_ratio\"] = df_t.apply( lambda r: get_real_avg(r) , axis = 1 )"
   ]
  },
  {
   "cell_type": "code",
   "execution_count": 281,
   "id": "ff60d01c-2db5-412f-8d8b-5d1f0fa25345",
   "metadata": {},
   "outputs": [
    {
     "data": {
      "text/plain": [
       "<AxesSubplot:xlabel='Months_on_book', ylabel='Avg_Utilization_Ratio'>"
      ]
     },
     "execution_count": 281,
     "metadata": {},
     "output_type": "execute_result"
    },
    {
     "data": {
      "image/png": "[encoded data removed]",
      "text/plain": [
       "<Figure size 432x288 with 1 Axes>"
      ]
     },
     "metadata": {
      "needs_background": "light"
     },
     "output_type": "display_data"
    }
   ],
   "source": [
    "sns.boxplot(data=df_t.loc[(df_t[\"Education_Level\"]==\"High School\")&(df_t[\"Income_Category\"]==\"others\"),:], x=\"Months_on_book\",y=\"Avg_Utilization_Ratio\")"
   ]
  },
  {
   "cell_type": "code",
   "execution_count": 280,
   "id": "8bb30385-8eab-4a89-9cce-3cb1bddbe6e2",
   "metadata": {},
   "outputs": [
    {
     "data": {
      "text/plain": [
       "<AxesSubplot:xlabel='Months_on_book', ylabel='n_avg_utilization_ratio'>"
      ]
     },
     "execution_count": 280,
     "metadata": {},
     "output_type": "execute_result"
    },
    {
     "data": {
      "image/png": "[encoded data removed]",
      "text/plain": [
       "<Figure size 432x288 with 1 Axes>"
      ]
     },
     "metadata": {
      "needs_background": "light"
     },
     "output_type": "display_data"
    }
   ],
   "source": [
    "sns.boxplot(data=df_t.loc[(df_t[\"Education_Level\"]==\"High School\")&(df_t[\"Income_Category\"]==\"others\"),:], x=\"Months_on_book\",y=\"n_avg_utilization_ratio\")"
   ]
  },
  {
   "cell_type": "markdown",
   "id": "efed0574-0261-4c3e-bf19-189abedd54ff",
   "metadata": {},
   "source": [
    "# de esta forma podemos observar mejor la relacion que hay entre el periodo de relacion con el banco con el promedio de utilizacion del credito"
   ]
  },
  {
   "cell_type": "code",
   "execution_count": null,
   "id": "00ce7a17-e042-470e-bb23-b3810adf24a3",
   "metadata": {},
   "outputs": [],
   "source": []
  },
  {
   "cell_type": "code",
   "execution_count": null,
   "id": "73b69835-1d87-4dc4-bda6-606a34ec00bd",
   "metadata": {},
   "outputs": [],
   "source": []
  },
  {
   "cell_type": "code",
   "execution_count": null,
   "id": "7261e4e2-3ebc-4422-892b-cf3d219e91c3",
   "metadata": {},
   "outputs": [],
   "source": []
  },
  {
   "cell_type": "markdown",
   "id": "5e6b6e0d-2ad2-4b79-aa0a-2869f87a3fe4",
   "metadata": {
    "tags": []
   },
   "source": [
    "# =========================================================================================================================================\n",
    "## Total_Revolving_Bal\n",
    "##\n",
    "# ========================================================================================================================================="
   ]
  },
  {
   "cell_type": "code",
   "execution_count": 144,
   "id": "10f76cd9-bec3-495e-9dc8-f6a561a46fee",
   "metadata": {},
   "outputs": [
    {
     "data": {
      "text/plain": [
       "{'whiskers': [<matplotlib.lines.Line2D at 0x257051e7100>,\n",
       "  <matplotlib.lines.Line2D at 0x257051e73d0>],\n",
       " 'caps': [<matplotlib.lines.Line2D at 0x257051e76a0>,\n",
       "  <matplotlib.lines.Line2D at 0x257051e79a0>],\n",
       " 'boxes': [<matplotlib.lines.Line2D at 0x257051dadf0>],\n",
       " 'medians': [<matplotlib.lines.Line2D at 0x257051e7c70>],\n",
       " 'fliers': [<matplotlib.lines.Line2D at 0x257051e7f40>],\n",
       " 'means': []}"
      ]
     },
     "execution_count": 144,
     "metadata": {},
     "output_type": "execute_result"
    },
    {
     "data": {
      "image/png": "[encoded data removed]",
      "text/plain": [
       "<Figure size 432x288 with 1 Axes>"
      ]
     },
     "metadata": {
      "needs_background": "light"
     },
     "output_type": "display_data"
    }
   ],
   "source": [
    "plt.boxplot(df_limpio.loc[:,[\"Total_Revolving_Bal\"]])"
   ]
  },
  {
   "cell_type": "code",
   "execution_count": null,
   "id": "a49d8c6c-4b0a-4c74-a2b3-2fc5fe2b68b1",
   "metadata": {},
   "outputs": [],
   "source": []
  },
  {
   "cell_type": "code",
   "execution_count": null,
   "id": "5ae71d20-e7eb-4c67-80e7-bf2e143187f8",
   "metadata": {},
   "outputs": [],
   "source": []
  },
  {
   "cell_type": "code",
   "execution_count": null,
   "id": "b67eda2e-7d7f-400f-8adc-89d89fc0eb8e",
   "metadata": {},
   "outputs": [],
   "source": []
  },
  {
   "cell_type": "markdown",
   "id": "d1b200d3-5ba4-4253-8721-d0a8480e4394",
   "metadata": {},
   "source": [
    "# -Limpie las variables categóricas\n",
    "### o Según las técnicas de tratamiento de limpieza de valores continuos limpie y transforme las variables categóricas\n",
    "### o Dejar en CSVs las traducciones o reglas que genera de las variables categóricas.\n"
   ]
  },
  {
   "cell_type": "code",
   "execution_count": 198,
   "id": "e1369214-7374-43e7-a423-3719e91a059f",
   "metadata": {},
   "outputs": [],
   "source": [
    "dfbank1=df_limpio.copy()"
   ]
  },
  {
   "cell_type": "code",
   "execution_count": 199,
   "id": "ecfde9c4-4b38-4c81-8c44-cf10044b61db",
   "metadata": {},
   "outputs": [
    {
     "data": {
      "text/plain": [
       "Index(['CLIENTNUM', 'Attrition_Flag', 'Customer_Age', 'Gender',\n",
       "       'Dependent_count', 'Education_Level', 'Marital_Status',\n",
       "       'Income_Category', 'Card_Category', 'Months_on_book',\n",
       "       'Total_Relationship_Count', 'Months_Inactive_12_mon',\n",
       "       'Contacts_Count_12_mon', 'Credit_Limit', 'Total_Revolving_Bal',\n",
       "       'Avg_Open_To_Buy', 'Total_Amt_Chng_Q4_Q1', 'Total_Trans_Amt',\n",
       "       'Total_Trans_Ct', 'Total_Ct_Chng_Q4_Q1', 'Avg_Utilization_Ratio',\n",
       "       'Naive_Bayes_Classifier_Attrition_Flag_Card_Category_Contacts_Count_12_mon_Dependent_count_Education_Level_Months_Inactive_12_mon_1',\n",
       "       'Naive_Bayes_Classifier_Attrition_Flag_Card_Category_Contacts_Count_12_mon_Dependent_count_Education_Level_Months_Inactive_12_mon_2'],\n",
       "      dtype='object')"
      ]
     },
     "execution_count": 199,
     "metadata": {},
     "output_type": "execute_result"
    }
   ],
   "source": [
    "dfbank1.columns"
   ]
  },
  {
   "cell_type": "code",
   "execution_count": 200,
   "id": "8183ee1b-5347-4fd5-9c50-e5b6a3409125",
   "metadata": {},
   "outputs": [],
   "source": [
    "categoricals =['CLIENTNUM', 'Attrition_Flag', 'Customer_Age', 'Gender',\n",
    "                'Education_Level', 'Marital_Status','Income_Category', 'Card_Category',]"
   ]
  },
  {
   "cell_type": "code",
   "execution_count": 201,
   "id": "9d9be7e9-bb71-4784-a936-d58f82363b1f",
   "metadata": {},
   "outputs": [],
   "source": [
    "dfbank2=dfbank1.loc[:, categoricals]"
   ]
  },
  {
   "cell_type": "markdown",
   "id": "e4c45b71-9049-4614-a239-7988010342d6",
   "metadata": {},
   "source": [
    "### Vamos a eliminar las columnas donde los niveles distintos de las variables categoricas representan mas del 0.95"
   ]
  },
  {
   "cell_type": "code",
   "execution_count": 202,
   "id": "a459a2ef-7895-4e05-a276-ec14f86706f7",
   "metadata": {},
   "outputs": [],
   "source": [
    "target = .95\n",
    "\n",
    "columnas_Validas = []\n",
    "columnas_con_muchos_niveles = []\n",
    "columnas_con_1_nivel = []\n",
    "\n",
    "for columns in categoricals:\n",
    "    x = dfbank2.loc[ : , [columns] ].drop_duplicates()\n",
    "    uniquevalues = x.shape[0]\n",
    "    \n",
    "    if uniquevalues == 1:\n",
    "        columnas_con_1_nivel.append(columns)\n",
    "    elif (uniquevalues / dfbank2.shape[0]) > target:\n",
    "        columnas_con_muchos_niveles.append(columns)\n",
    "    else:\n",
    "        columnas_Validas.append(columns)\n",
    "    "
   ]
  },
  {
   "cell_type": "markdown",
   "id": "5dffeaa2-4fd6-4064-9cfb-05e147f5a344",
   "metadata": {},
   "source": [
    "#### Para las columnas categóricas vamos encontrar aquellas columnas que tienen mas de un nivel,y que por lo menos uno de esos niveles represente mas o igual del 90%. si se cumple eliminaremos las columnas"
   ]
  },
  {
   "cell_type": "code",
   "execution_count": 203,
   "id": "d93ae90e-360d-4c3f-b0d1-d041fdc28bbf",
   "metadata": {},
   "outputs": [],
   "source": [
    "target=0.95\n",
    "y=pd.DataFrame()\n",
    "Columns_out= []\n",
    "for c_ in columnas_Validas:\n",
    "    x = dfbank2.loc[ : , [c_] ].drop_duplicates()\n",
    "    uniquevalues = x.shape[0]\n",
    "    y = dfbank2[c_].value_counts()/dfbank2.shape[0]\n",
    "    Porcentaje=y.values[0]\n",
    "    if (uniquevalues > 1 and Porcentaje>=target) :\n",
    "        Columns_out.append(c_)\n",
    "        valid_columns.remove(c_)\n",
    "   "
   ]
  },
  {
   "cell_type": "markdown",
   "id": "a8ca97d0-5a30-4c51-a25f-1a81210fb7de",
   "metadata": {},
   "source": [
    "#### Para las columnas categóricas encontraremos aquellas columnas que tengan entre 2-6 niveles. A los niveles con la frecuencia mas baja lo vamos a remplazar por la palabra Others "
   ]
  },
  {
   "cell_type": "code",
   "execution_count": 204,
   "id": "826c69bd-213e-4f4b-adad-8d33dfaa1df4",
   "metadata": {},
   "outputs": [],
   "source": [
    "valid_columns_two_fourlevels = []\n",
    "for c_ in categoricals:\n",
    "    x = dfbank2.loc[ : , [c_] ].drop_duplicates()\n",
    "    uniquevalues = x.shape[0]\n",
    "    \n",
    "    if uniquevalues >=3 and uniquevalues <=6:\n",
    "        valid_columns_two_fourlevels.append(c_)"
   ]
  },
  {
   "cell_type": "code",
   "execution_count": 205,
   "id": "92d1e029-b21e-4ad7-b90f-a7bf3519b45c",
   "metadata": {},
   "outputs": [
    {
     "data": {
      "text/plain": [
       "['Education_Level', 'Marital_Status', 'Income_Category']"
      ]
     },
     "execution_count": 205,
     "metadata": {},
     "output_type": "execute_result"
    }
   ],
   "source": [
    "valid_columns_two_fourlevels"
   ]
  },
  {
   "cell_type": "markdown",
   "id": "789768ba-2c1e-493c-8ded-77ef2192790c",
   "metadata": {},
   "source": [
    "### traducciones de variable Education Level"
   ]
  },
  {
   "cell_type": "code",
   "execution_count": 206,
   "id": "8d218fe6-c945-4eb9-a25b-c9bf97fd4b79",
   "metadata": {},
   "outputs": [],
   "source": [
    "level_frequency=pd.DataFrame()"
   ]
  },
  {
   "cell_type": "code",
   "execution_count": 207,
   "id": "a9b0edb4-f886-42e6-bfb9-6c5e52c35ecb",
   "metadata": {},
   "outputs": [],
   "source": [
    "level_frequency['Numero_Datos']= dfbank2['Education_Level'].value_counts()"
   ]
  },
  {
   "cell_type": "code",
   "execution_count": 208,
   "id": "fa6bfd34-6a7e-4a1a-80f6-2ca1b1cd43b6",
   "metadata": {},
   "outputs": [],
   "source": [
    "level_frequency=level_frequency.reset_index()"
   ]
  },
  {
   "cell_type": "code",
   "execution_count": 209,
   "id": "42b2a379-4efb-479f-b636-d6c3296e1a59",
   "metadata": {},
   "outputs": [],
   "source": [
    "level_frequency.columns=('Education_Level','Numero_Datos')"
   ]
  },
  {
   "cell_type": "code",
   "execution_count": 210,
   "id": "04e0e954-26b7-48a5-9ae0-4f70c56bdb83",
   "metadata": {},
   "outputs": [],
   "source": [
    "level_frequency['Porcentaje']=level_frequency['Numero_Datos']/dfbank2.shape[0]"
   ]
  },
  {
   "cell_type": "code",
   "execution_count": 211,
   "id": "d7d67ea8-1cea-42d5-a371-8ec8f32fbced",
   "metadata": {},
   "outputs": [],
   "source": [
    "level_frequency=level_frequency.sort_values(['Porcentaje'], ascending=False)"
   ]
  },
  {
   "cell_type": "code",
   "execution_count": 212,
   "id": "8c6aeca5-be5f-443c-898d-0d539283344d",
   "metadata": {},
   "outputs": [],
   "source": [
    "level_frequency['nEducation_Level']='Others'"
   ]
  },
  {
   "cell_type": "code",
   "execution_count": 213,
   "id": "c542adcf-baa0-4e52-8cc5-7269a41e791d",
   "metadata": {},
   "outputs": [],
   "source": [
    "Valor_minimo=0.208023"
   ]
  },
  {
   "cell_type": "code",
   "execution_count": 214,
   "id": "ed686c1f-94f3-4a57-b7fb-72449162fc05",
   "metadata": {},
   "outputs": [],
   "source": [
    "level_frequency['nEducation_Level']=level_frequency.apply( lambda r: r[\"Education_Level\"] if r[\"Porcentaje\"] >= Valor_minimo else r[\"nEducation_Level\"] , axis = 1 )"
   ]
  },
  {
   "cell_type": "code",
   "execution_count": 215,
   "id": "6c9a2e24-6819-4987-a6a8-656744a39e2f",
   "metadata": {},
   "outputs": [],
   "source": [
    "level_frequency_Education=level_frequency.loc[:, ['Education_Level','nEducation_Level']]"
   ]
  },
  {
   "cell_type": "code",
   "execution_count": 216,
   "id": "2f92d992-40ee-407b-b4ba-56908309f27b",
   "metadata": {},
   "outputs": [],
   "source": [
    "level_frequency_Education.to_csv('nEducation_level.csv')"
   ]
  },
  {
   "cell_type": "markdown",
   "id": "f20e0951-ca75-48de-8555-6511bfb780b7",
   "metadata": {},
   "source": [
    "### traducciones de variable Marital Status"
   ]
  },
  {
   "cell_type": "code",
   "execution_count": 217,
   "id": "9dae855e-2e12-4477-b401-a0c758e01f3f",
   "metadata": {},
   "outputs": [],
   "source": [
    "level_frequency=pd.DataFrame()"
   ]
  },
  {
   "cell_type": "code",
   "execution_count": 218,
   "id": "a6e86054-cb90-403a-ba63-afe315813d62",
   "metadata": {},
   "outputs": [],
   "source": [
    "level_frequency['Numero_Datos']= dfbank2['Marital_Status'].value_counts()"
   ]
  },
  {
   "cell_type": "code",
   "execution_count": 219,
   "id": "98c13435-8055-40b4-acc9-30453e1355b5",
   "metadata": {},
   "outputs": [],
   "source": [
    "level_frequency=level_frequency.reset_index()"
   ]
  },
  {
   "cell_type": "code",
   "execution_count": 220,
   "id": "1a099037-11d9-4b9f-b00c-6b65342513b3",
   "metadata": {},
   "outputs": [],
   "source": [
    "level_frequency.columns=('Marital_Status','Numero_Datos')"
   ]
  },
  {
   "cell_type": "code",
   "execution_count": 221,
   "id": "8b9ab952-941b-4feb-91f5-4e67359ecfae",
   "metadata": {},
   "outputs": [],
   "source": [
    "level_frequency['Porcentaje']=level_frequency['Numero_Datos']/dfbank2.shape[0]"
   ]
  },
  {
   "cell_type": "code",
   "execution_count": 222,
   "id": "89eee37a-e4fc-4e4f-ac30-74fa05c97a00",
   "metadata": {},
   "outputs": [],
   "source": [
    "level_frequency=level_frequency.sort_values(['Porcentaje'], ascending=False)"
   ]
  },
  {
   "cell_type": "code",
   "execution_count": 223,
   "id": "c0ffcc75-345d-4532-bb39-3deca3114a75",
   "metadata": {},
   "outputs": [],
   "source": [
    "level_frequency['nMarital_Status']='Others'"
   ]
  },
  {
   "cell_type": "code",
   "execution_count": 224,
   "id": "cc6d82a0-9c09-42f0-bc11-af05afb727f8",
   "metadata": {},
   "outputs": [],
   "source": [
    "Valor_minimo=level_frequency['Porcentaje'][1]"
   ]
  },
  {
   "cell_type": "code",
   "execution_count": 225,
   "id": "9ff3b5fe-4cfa-41c6-a046-6ee626699dd4",
   "metadata": {},
   "outputs": [],
   "source": [
    "level_frequency['nMarital_Status']=level_frequency.apply( lambda r: r[\"Marital_Status\"] if r[\"Porcentaje\"] >= Valor_minimo else r[\"nMarital_Status\"] , axis = 1 )"
   ]
  },
  {
   "cell_type": "code",
   "execution_count": 226,
   "id": "2164787c-052f-49c3-bde1-886299424c6c",
   "metadata": {},
   "outputs": [],
   "source": [
    "level_frequency_Marital_Status=level_frequency.loc[:, ['Marital_Status','nMarital_Status']]"
   ]
  },
  {
   "cell_type": "code",
   "execution_count": 227,
   "id": "6c3b8cc1-2c1f-4a0b-a3d7-b1297b98a758",
   "metadata": {},
   "outputs": [],
   "source": [
    "level_frequency_Marital_Status.to_csv('nMarital_Status.csv')"
   ]
  },
  {
   "cell_type": "markdown",
   "id": "5359ee7f-11a8-4d2c-b47b-d713e7bea6eb",
   "metadata": {},
   "source": [
    "### traducciones de variable Income_Category"
   ]
  },
  {
   "cell_type": "code",
   "execution_count": 228,
   "id": "66c78ec5-49a8-4b21-a0cf-e8f2d3765d0d",
   "metadata": {},
   "outputs": [],
   "source": [
    "level_frequency=pd.DataFrame()"
   ]
  },
  {
   "cell_type": "code",
   "execution_count": 229,
   "id": "c2858a98-a517-4110-8d14-11e3fe28cdc0",
   "metadata": {},
   "outputs": [],
   "source": [
    "level_frequency['Numero_Datos']= dfbank2['Income_Category'].value_counts()"
   ]
  },
  {
   "cell_type": "code",
   "execution_count": 230,
   "id": "81c5ff4b-98a7-4007-af3a-70b98ec99dbf",
   "metadata": {},
   "outputs": [],
   "source": [
    "level_frequency=level_frequency.reset_index()"
   ]
  },
  {
   "cell_type": "code",
   "execution_count": 231,
   "id": "6911ea63-adc3-4329-96d4-c71368df5924",
   "metadata": {},
   "outputs": [],
   "source": [
    "level_frequency.columns=('Income_Category','Numero_Datos')"
   ]
  },
  {
   "cell_type": "code",
   "execution_count": 232,
   "id": "40a3a482-75bb-4e9b-8c0f-0107b3c5b055",
   "metadata": {},
   "outputs": [],
   "source": [
    "level_frequency['Porcentaje']=level_frequency['Numero_Datos']/dfbank2.shape[0]"
   ]
  },
  {
   "cell_type": "code",
   "execution_count": 233,
   "id": "7c2496b1-6062-4c62-98a0-e90e39a54c17",
   "metadata": {},
   "outputs": [],
   "source": [
    "level_frequency=level_frequency.sort_values(['Porcentaje'], ascending=False)"
   ]
  },
  {
   "cell_type": "code",
   "execution_count": 234,
   "id": "85324847-ea43-4786-8511-bacc08a61ee2",
   "metadata": {},
   "outputs": [],
   "source": [
    "level_frequency['nIncome_Category']='Others'"
   ]
  },
  {
   "cell_type": "code",
   "execution_count": 235,
   "id": "ad4df711-dec5-47ff-b244-468bc74fb535",
   "metadata": {},
   "outputs": [],
   "source": [
    "Valor_minimo=level_frequency['Porcentaje'][2]"
   ]
  },
  {
   "cell_type": "code",
   "execution_count": 236,
   "id": "411193e5-14db-4ee0-aa5f-ae8c42b132eb",
   "metadata": {},
   "outputs": [],
   "source": [
    "level_frequency['nIncome_Category']=level_frequency.apply( lambda r: r[\"Income_Category\"] if r[\"Porcentaje\"] >= Valor_minimo else r[\"nIncome_Category\"] , axis = 1 )"
   ]
  },
  {
   "cell_type": "code",
   "execution_count": 237,
   "id": "b85ff6ba-80f4-4e0b-b9bc-988e1d6035c8",
   "metadata": {},
   "outputs": [],
   "source": [
    "level_frequency_Income_Category=level_frequency.loc[:, ['Income_Category','nIncome_Category']]"
   ]
  },
  {
   "cell_type": "code",
   "execution_count": 238,
   "id": "dfb7f1f7-5927-4c89-8be7-cc83cb6b424f",
   "metadata": {},
   "outputs": [],
   "source": [
    "level_frequency_Income_Category.to_csv('Income_Category_Status.csv')"
   ]
  },
  {
   "cell_type": "code",
   "execution_count": null,
   "id": "e7f8da74-f04e-4461-a28f-d33137d1658e",
   "metadata": {},
   "outputs": [],
   "source": []
  },
  {
   "cell_type": "code",
   "execution_count": null,
   "id": "1888f6cf-759c-4386-93b0-be5955b42b51",
   "metadata": {},
   "outputs": [],
   "source": []
  },
  {
   "cell_type": "code",
   "execution_count": null,
   "id": "a6ac5794-0e2f-4174-9b12-127394c3c495",
   "metadata": {},
   "outputs": [],
   "source": []
  },
  {
   "cell_type": "code",
   "execution_count": null,
   "id": "53ca08d8-7980-4dd3-9574-aa11fccf9950",
   "metadata": {},
   "outputs": [],
   "source": []
  },
  {
   "cell_type": "code",
   "execution_count": null,
   "id": "98b1dd6a-c579-435c-b18d-8bcee1ba4125",
   "metadata": {},
   "outputs": [],
   "source": []
  },
  {
   "cell_type": "code",
   "execution_count": null,
   "id": "0d75bb5a-f77c-49ab-954d-90d598cc219d",
   "metadata": {},
   "outputs": [],
   "source": []
  },
  {
   "cell_type": "code",
   "execution_count": null,
   "id": "2ec80b8d-2522-4e26-a048-73934f5bbc17",
   "metadata": {},
   "outputs": [],
   "source": []
  },
  {
   "cell_type": "code",
   "execution_count": null,
   "id": "235c3fa2-3020-4704-8f1a-86d4ca56f0a9",
   "metadata": {},
   "outputs": [],
   "source": []
  },
  {
   "cell_type": "code",
   "execution_count": null,
   "id": "9c5213b3-45f1-4dc3-8ddf-596ccab184a5",
   "metadata": {},
   "outputs": [],
   "source": []
  }
 ],
 "metadata": {
  "kernelspec": {
   "display_name": "Python 3 (ipykernel)",
   "language": "python",
   "name": "python3"
  },
  "language_info": {
   "codemirror_mode": {
    "name": "ipython",
    "version": 3
   },
   "file_extension": ".py",
   "mimetype": "text/x-python",
   "name": "python",
   "nbconvert_exporter": "python",
   "pygments_lexer": "ipython3",
   "version": "3.9.12"
  }
 },
 "nbformat": 4,
 "nbformat_minor": 5
}
