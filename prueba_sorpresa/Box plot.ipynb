{
 "cells": [
  {
   "cell_type": "markdown",
   "id": "900ea98a-e621-4fdc-9e72-5759a87701c3",
   "metadata": {},
   "source": [
    "# UNAH\n",
    "## Facultad de Ingenieria\n",
    "## Carrera de Ingenieria en sistemas\n",
    "### Clase: Inteligencia Artificial\n",
    "\n",
    "*Prueba*"
   ]
  },
  {
   "cell_type": "code",
   "execution_count": 2,
   "id": "d89d7223-d7bc-4a2f-b8e2-7777b3abbbc9",
   "metadata": {},
   "outputs": [],
   "source": [
    "import pandas as pd\n",
    "import numpy as np"
   ]
  },
  {
   "cell_type": "markdown",
   "id": "a6101627-a1bb-41ae-9a9c-6597e20ed26b",
   "metadata": {},
   "source": [
    "Segun el siguiente Dataset:"
   ]
  },
  {
   "cell_type": "code",
   "execution_count": 3,
   "id": "129c774e-4da0-4b46-918a-19e51df03fe3",
   "metadata": {},
   "outputs": [],
   "source": [
    "pd_vector = pd.DataFrame( { \"num\" : range(1,101) } )"
   ]
  },
  {
   "cell_type": "code",
   "execution_count": 4,
   "id": "48d3c5b7-be61-4c2f-ada7-d9766b5d82db",
   "metadata": {},
   "outputs": [
    {
     "data": {
      "text/html": [
       "<div>\n",
       "<style scoped>\n",
       "    .dataframe tbody tr th:only-of-type {\n",
       "        vertical-align: middle;\n",
       "    }\n",
       "\n",
       "    .dataframe tbody tr th {\n",
       "        vertical-align: top;\n",
       "    }\n",
       "\n",
       "    .dataframe thead th {\n",
       "        text-align: right;\n",
       "    }\n",
       "</style>\n",
       "<table border=\"1\" class=\"dataframe\">\n",
       "  <thead>\n",
       "    <tr style=\"text-align: right;\">\n",
       "      <th></th>\n",
       "      <th>num</th>\n",
       "    </tr>\n",
       "  </thead>\n",
       "  <tbody>\n",
       "    <tr>\n",
       "      <th>0</th>\n",
       "      <td>1</td>\n",
       "    </tr>\n",
       "    <tr>\n",
       "      <th>1</th>\n",
       "      <td>2</td>\n",
       "    </tr>\n",
       "    <tr>\n",
       "      <th>2</th>\n",
       "      <td>3</td>\n",
       "    </tr>\n",
       "    <tr>\n",
       "      <th>3</th>\n",
       "      <td>4</td>\n",
       "    </tr>\n",
       "    <tr>\n",
       "      <th>4</th>\n",
       "      <td>5</td>\n",
       "    </tr>\n",
       "    <tr>\n",
       "      <th>...</th>\n",
       "      <td>...</td>\n",
       "    </tr>\n",
       "    <tr>\n",
       "      <th>95</th>\n",
       "      <td>96</td>\n",
       "    </tr>\n",
       "    <tr>\n",
       "      <th>96</th>\n",
       "      <td>97</td>\n",
       "    </tr>\n",
       "    <tr>\n",
       "      <th>97</th>\n",
       "      <td>98</td>\n",
       "    </tr>\n",
       "    <tr>\n",
       "      <th>98</th>\n",
       "      <td>99</td>\n",
       "    </tr>\n",
       "    <tr>\n",
       "      <th>99</th>\n",
       "      <td>100</td>\n",
       "    </tr>\n",
       "  </tbody>\n",
       "</table>\n",
       "<p>100 rows × 1 columns</p>\n",
       "</div>"
      ],
      "text/plain": [
       "    num\n",
       "0     1\n",
       "1     2\n",
       "2     3\n",
       "3     4\n",
       "4     5\n",
       "..  ...\n",
       "95   96\n",
       "96   97\n",
       "97   98\n",
       "98   99\n",
       "99  100\n",
       "\n",
       "[100 rows x 1 columns]"
      ]
     },
     "execution_count": 4,
     "metadata": {},
     "output_type": "execute_result"
    }
   ],
   "source": [
    "pd_vector"
   ]
  },
  {
   "cell_type": "markdown",
   "id": "68d2dfb1-9c1f-4116-89c5-05e2171c7018",
   "metadata": {},
   "source": [
    "Y segun los siguientes metodos de numpy"
   ]
  },
  {
   "cell_type": "code",
   "execution_count": 5,
   "id": "81d3dd14-6205-421a-9cf9-031027c6a213",
   "metadata": {},
   "outputs": [
    {
     "data": {
      "text/plain": [
       "833.25"
      ]
     },
     "execution_count": 5,
     "metadata": {},
     "output_type": "execute_result"
    }
   ],
   "source": [
    "np.var( pd_vector[\"num\"] ) ## Calcula la varianza"
   ]
  },
  {
   "cell_type": "code",
   "execution_count": 6,
   "id": "4b17ddd3-044d-4328-9f34-03bde615cc7a",
   "metadata": {},
   "outputs": [
    {
     "data": {
      "text/plain": [
       "28.86607004772212"
      ]
     },
     "execution_count": 6,
     "metadata": {},
     "output_type": "execute_result"
    }
   ],
   "source": [
    "np.std( pd_vector[\"num\"] ) ## Calcula la desviacion estandard"
   ]
  },
  {
   "cell_type": "markdown",
   "id": "b0db84f8-c351-41db-b981-336b6738b19b",
   "metadata": {},
   "source": [
    "## Responda las siguientes ejercicios"
   ]
  },
  {
   "cell_type": "markdown",
   "id": "5d99d524-4a87-4fbf-a2b8-436a6cb4ddcd",
   "metadata": {},
   "source": [
    "1. Grafique el Boxplot del vector \"num\""
   ]
  },
  {
   "cell_type": "code",
   "execution_count": 13,
   "id": "f36238bb-56d3-4bdb-9108-bb652a2c2f9c",
   "metadata": {},
   "outputs": [
    {
     "data": {
      "text/plain": [
       "<AxesSubplot:>"
      ]
     },
     "execution_count": 13,
     "metadata": {},
     "output_type": "execute_result"
    },
    {
     "data": {
      "image/png": "[encoded data removed]",
      "text/plain": [
       "<Figure size 432x288 with 1 Axes>"
      ]
     },
     "metadata": {
      "needs_background": "light"
     },
     "output_type": "display_data"
    }
   ],
   "source": [
    "pd_vector.loc[:,['num']].boxplot()"
   ]
  },
  {
   "cell_type": "markdown",
   "id": "c3011ce8-15f1-4b3b-b7ab-44172bf7c8a2",
   "metadata": {},
   "source": [
    "2. Calcule la varianza y desviacion estandard de cada uno de los quartiles\n",
    "\n",
    "Nota: realice manual la divicion del dataset para obtener cada uno de quartiles, al final obtendra cuatro dataframes"
   ]
  },
  {
   "cell_type": "code",
   "execution_count": 31,
   "id": "8b18a52f-71b7-4760-81c3-7728e69613ce",
   "metadata": {},
   "outputs": [],
   "source": [
    "q1=pd_vector.loc[:24,['num']]\n",
    "q2=pd_vector.loc[25:49,['num']]\n",
    "q3=pd_vector.loc[50:74,['num']]\n",
    "q4=pd_vector.loc[75:100,['num']]"
   ]
  },
  {
   "cell_type": "markdown",
   "id": "1ed16cfa-5e69-4fd5-be54-dba20163d060",
   "metadata": {},
   "source": [
    "# Q1"
   ]
  },
  {
   "cell_type": "code",
   "execution_count": 44,
   "id": "cf308dc9-46ba-4ada-a2fb-9e9a84ab5d1a",
   "metadata": {},
   "outputs": [
    {
     "data": {
      "text/plain": [
       "52.0"
      ]
     },
     "execution_count": 44,
     "metadata": {},
     "output_type": "execute_result"
    }
   ],
   "source": [
    "np.var( q1['num'] )"
   ]
  },
  {
   "cell_type": "code",
   "execution_count": 52,
   "id": "910ababa-c920-4477-a67f-29ab7964b9b4",
   "metadata": {},
   "outputs": [
    {
     "data": {
      "text/plain": [
       "7.211102550927978"
      ]
     },
     "execution_count": 52,
     "metadata": {},
     "output_type": "execute_result"
    }
   ],
   "source": [
    "np.std(q1['num'])"
   ]
  },
  {
   "cell_type": "markdown",
   "id": "78af6d20-930f-4de8-81b4-46dd26a77312",
   "metadata": {},
   "source": [
    "# Q2"
   ]
  },
  {
   "cell_type": "code",
   "execution_count": 53,
   "id": "0266b13d-413e-4179-b5aa-c6878a4759a7",
   "metadata": {},
   "outputs": [
    {
     "data": {
      "text/plain": [
       "52.0"
      ]
     },
     "execution_count": 53,
     "metadata": {},
     "output_type": "execute_result"
    }
   ],
   "source": [
    "np.var( q2['num'] )"
   ]
  },
  {
   "cell_type": "code",
   "execution_count": 54,
   "id": "97a96011-0448-45ab-a449-818128761a67",
   "metadata": {},
   "outputs": [
    {
     "data": {
      "text/plain": [
       "7.211102550927978"
      ]
     },
     "execution_count": 54,
     "metadata": {},
     "output_type": "execute_result"
    }
   ],
   "source": [
    "np.std(q2['num'])"
   ]
  },
  {
   "cell_type": "markdown",
   "id": "8014d6f5-0958-4609-8fbc-d1b9e880a89a",
   "metadata": {},
   "source": [
    "# Q3"
   ]
  },
  {
   "cell_type": "code",
   "execution_count": 55,
   "id": "0e289082-fb97-4858-85ab-015412d824d0",
   "metadata": {},
   "outputs": [
    {
     "data": {
      "text/plain": [
       "52.0"
      ]
     },
     "execution_count": 55,
     "metadata": {},
     "output_type": "execute_result"
    }
   ],
   "source": [
    "np.var( q3['num'] )"
   ]
  },
  {
   "cell_type": "code",
   "execution_count": 56,
   "id": "1f47bdcd-c7f8-4b93-8d38-600104a71231",
   "metadata": {},
   "outputs": [
    {
     "data": {
      "text/plain": [
       "7.211102550927978"
      ]
     },
     "execution_count": 56,
     "metadata": {},
     "output_type": "execute_result"
    }
   ],
   "source": [
    "np.std(q3['num'])"
   ]
  },
  {
   "cell_type": "markdown",
   "id": "fb4ac305-b8fb-473a-bcf1-06cd5731919c",
   "metadata": {},
   "source": [
    "# Q4"
   ]
  },
  {
   "cell_type": "code",
   "execution_count": 57,
   "id": "7c5ba007-87f4-4205-8a71-eba87f8dadb4",
   "metadata": {},
   "outputs": [
    {
     "data": {
      "text/plain": [
       "52.0"
      ]
     },
     "execution_count": 57,
     "metadata": {},
     "output_type": "execute_result"
    }
   ],
   "source": [
    "np.var( q4['num'] )"
   ]
  },
  {
   "cell_type": "code",
   "execution_count": 51,
   "id": "666e095b-9348-4ef9-85a1-4585d4013faa",
   "metadata": {},
   "outputs": [
    {
     "data": {
      "text/plain": [
       "7.211102550927978"
      ]
     },
     "execution_count": 51,
     "metadata": {},
     "output_type": "execute_result"
    }
   ],
   "source": [
    "np.std(q4['num'])"
   ]
  },
  {
   "cell_type": "markdown",
   "id": "b1aac673-aa4f-40c4-8ae2-364247dcaad1",
   "metadata": {},
   "source": [
    "3. Explique la respuesta que obtuvo en el ejercicio dos, recuerde que se puede apoyar del grafico del ejercicio uno para hacer referencias sobre distribucion en caso de que sea necesario."
   ]
  },
  {
   "cell_type": "markdown",
   "id": "7dce290f-4be9-414e-bd1d-4cdf2c2f8a55",
   "metadata": {},
   "source": [
    "## pues la respuesta que obtenemos es que para los 4 quantiles los dos datos son iguales, ósea la desviacion estandar y la varianza de cada uno de los quantiles es la misma, primero la varianza nos habla de la \"cercania\" que tienen los datos y la desviacion estandar nos dice como los \"pasos\" o \"saltos\" que hay entre cada dato, o algo asi fue lo que comprendi investigando un poco mas sobre este tema, pues encontre que eran medidas de dispersion y basicamente una es mas precisa que la otra para determinar que tanto en promedio se aleja un dato con respecto a la media, con esta definicion en mente supongo yo que los datos son los mismos porque la diferencia que hay entre el numero maximo y minimo de cada uno de los quantiles es la misma, que este caso seria el numero 24, la separacion que tiene cada uno de los datos con respecto a otro en su respectivo quantil tambien es la misma, osea entre 1 y 2, que pertenecen al quantil uno hay cierta diferencia y entre 26 y 27 que son datos del quantil dos existe la misma diferencia, entonces podemos decir que la lejania que tienen los datos con respecto a su media en cada uno de los quantiles es parecida o igual, entonces supongo que debido a eso es que los datos se comportan de esa forma o mejor dicho por eso es que son iguales."
   ]
  },
  {
   "cell_type": "code",
   "execution_count": 60,
   "id": "f3cee86d-69e6-4e59-ac6e-2063eb9b7f46",
   "metadata": {},
   "outputs": [
    {
     "data": {
      "text/plain": [
       "num    24\n",
       "dtype: int64"
      ]
     },
     "execution_count": 60,
     "metadata": {},
     "output_type": "execute_result"
    }
   ],
   "source": [
    "# diferencia entre maximo y minimo de q1\n",
    "q1.max()-q1.min()"
   ]
  },
  {
   "cell_type": "code",
   "execution_count": 61,
   "id": "317a50f5-be4d-48e5-9acc-c4c3a03d9e80",
   "metadata": {},
   "outputs": [
    {
     "data": {
      "text/plain": [
       "num    24\n",
       "dtype: int64"
      ]
     },
     "execution_count": 61,
     "metadata": {},
     "output_type": "execute_result"
    }
   ],
   "source": [
    "# diferencia entre maximo y minimo de q3\n",
    "q3.max()-q3.min()"
   ]
  }
 ],
 "metadata": {
  "kernelspec": {
   "display_name": "Python 3 (ipykernel)",
   "language": "python",
   "name": "python3"
  },
  "language_info": {
   "codemirror_mode": {
    "name": "ipython",
    "version": 3
   },
   "file_extension": ".py",
   "mimetype": "text/x-python",
   "name": "python",
   "nbconvert_exporter": "python",
   "pygments_lexer": "ipython3",
   "version": "3.9.12"
  }
 },
 "nbformat": 4,
 "nbformat_minor": 5
}
