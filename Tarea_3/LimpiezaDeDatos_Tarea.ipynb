{
 "cells": [
  {
   "cell_type": "code",
   "execution_count": 1,
   "id": "cc0c2092-a345-425b-bd39-23c3709b332f",
   "metadata": {},
   "outputs": [],
   "source": [
    "import pandas as pd"
   ]
  },
  {
   "cell_type": "code",
   "execution_count": 2,
   "id": "3ab0faee-6db9-405e-969f-e80ce1879a1e",
   "metadata": {},
   "outputs": [],
   "source": [
    "addidas = pd.read_csv(\"adidas.csv\")"
   ]
  },
  {
   "cell_type": "code",
   "execution_count": 3,
   "id": "e81b7aac-5230-42d2-86c9-b33f6b6d2101",
   "metadata": {},
   "outputs": [
    {
     "data": {
      "text/plain": [
       "Index(['url', 'name', 'sku', 'selling_price', 'original_price', 'currency',\n",
       "       'availability', 'color', 'category', 'source', 'source_website',\n",
       "       'breadcrumbs', 'description', 'brand', 'images', 'country', 'language',\n",
       "       'average_rating', 'reviews_count', 'crawled_at'],\n",
       "      dtype='object')"
      ]
     },
     "execution_count": 3,
     "metadata": {},
     "output_type": "execute_result"
    }
   ],
   "source": [
    " addidas.columns"
   ]
  },
  {
   "cell_type": "code",
   "execution_count": 4,
   "id": "b5455244-3bf4-451f-92a0-bf2c1e432871",
   "metadata": {},
   "outputs": [
    {
     "data": {
      "text/plain": [
       "(845, 20)"
      ]
     },
     "execution_count": 4,
     "metadata": {},
     "output_type": "execute_result"
    }
   ],
   "source": [
    "addidas.shape"
   ]
  },
  {
   "cell_type": "code",
   "execution_count": 36,
   "id": "334316f8-bd00-43e4-8822-ce3045aa4ac4",
   "metadata": {},
   "outputs": [
    {
     "data": {
      "text/plain": [
       "845"
      ]
     },
     "execution_count": 36,
     "metadata": {},
     "output_type": "execute_result"
    }
   ],
   "source": [
    "len(addidas.loc[:,\"url\"].value_counts()/addidas.shape[0])"
   ]
  },
  {
   "cell_type": "code",
   "execution_count": 37,
   "id": "dbd3cc29-ba1f-4e0e-be8f-5ca67a2686cf",
   "metadata": {},
   "outputs": [
    {
     "data": {
      "text/plain": [
       "845"
      ]
     },
     "execution_count": 37,
     "metadata": {},
     "output_type": "execute_result"
    }
   ],
   "source": [
    "len(addidas.loc[:,\"sku\"].value_counts()/addidas.shape[0])"
   ]
  },
  {
   "cell_type": "code",
   "execution_count": 38,
   "id": "d4f8f0ef-5205-4c17-982a-5a6911824013",
   "metadata": {},
   "outputs": [
    {
     "data": {
      "text/plain": [
       "845"
      ]
     },
     "execution_count": 38,
     "metadata": {},
     "output_type": "execute_result"
    }
   ],
   "source": [
    "len(addidas.loc[:,\"images\"].value_counts()/addidas.shape[0])"
   ]
  },
  {
   "cell_type": "code",
   "execution_count": 39,
   "id": "d144e69b-d9f3-49c4-a649-ee5e60a2f978",
   "metadata": {},
   "outputs": [
    {
     "data": {
      "text/plain": [
       "560"
      ]
     },
     "execution_count": 39,
     "metadata": {},
     "output_type": "execute_result"
    }
   ],
   "source": [
    "len(addidas.loc[:,\"description\"].value_counts()/addidas.shape[0])"
   ]
  },
  {
   "cell_type": "code",
   "execution_count": 9,
   "id": "0775b3c1-000c-47bc-83ba-051d938c6c29",
   "metadata": {},
   "outputs": [],
   "source": [
    "# lo primero seria la exclusion de algunas columnas que no seran necesarias para este tipo de analisis, por lo que reprepresentan, no son variabbles \n",
    "# categoricas por decirlo de alguna forma, como el precio, las reviews_count, la clasificicacion o puntucacion que seria average_rating.\n",
    "# tambien URL, SKU, Images, porque son variables que practicamente tienen la misma cantidad de niveles, como los registros existentes, se podria\n",
    "# hacer una condicion para excluirmos durante el ejercicio pero pienso yo, que se puede hacer direcamente desde ahora porque para mi no son variables categoricas\n",
    "# y el ejercicio nos dice claro que debemos de tomar la variables categoricas.\n",
    "categorias=[ 'name','currency',\n",
    "       'availability', 'color', 'category', 'source', 'source_website',\n",
    "       'breadcrumbs', 'description', 'brand', 'country', 'language']"
   ]
  },
  {
   "cell_type": "code",
   "execution_count": 10,
   "id": "6547a6da-bcc2-42d9-80dd-801283a17442",
   "metadata": {},
   "outputs": [],
   "source": [
    "# pruebas de cogigo para encontrar una forma de realizar la condicion del ejercicio "
   ]
  },
  {
   "cell_type": "code",
   "execution_count": 11,
   "id": "acb797bb-8b43-49f7-8336-29173267cdc7",
   "metadata": {},
   "outputs": [
    {
     "data": {
      "text/plain": [
       "0.26272189349112424"
      ]
     },
     "execution_count": 11,
     "metadata": {},
     "output_type": "execute_result"
    }
   ],
   "source": [
    "addidas.loc[addidas[\"color\"]==\"White\",:].shape[0]/addidas.shape[0]"
   ]
  },
  {
   "cell_type": "code",
   "execution_count": 12,
   "id": "b4c6fa49-0c86-450a-a925-9698c3bd8f94",
   "metadata": {},
   "outputs": [],
   "source": [
    "prueba_niveles=pd.DataFrame(addidas.loc[:,[\"color\"]].value_counts()/addidas.shape[0])"
   ]
  },
  {
   "cell_type": "code",
   "execution_count": 13,
   "id": "796facef-a291-45aa-9e16-ebb578de452c",
   "metadata": {},
   "outputs": [],
   "source": [
    "prueba_niveles.columns= [\"porcentaje\"]"
   ]
  },
  {
   "cell_type": "code",
   "execution_count": 14,
   "id": "0f74014a-f7b4-406e-9684-79034b3dc544",
   "metadata": {},
   "outputs": [
    {
     "data": {
      "text/html": [
       "<div>\n",
       "<style scoped>\n",
       "    .dataframe tbody tr th:only-of-type {\n",
       "        vertical-align: middle;\n",
       "    }\n",
       "\n",
       "    .dataframe tbody tr th {\n",
       "        vertical-align: top;\n",
       "    }\n",
       "\n",
       "    .dataframe thead th {\n",
       "        text-align: right;\n",
       "    }\n",
       "</style>\n",
       "<table border=\"1\" class=\"dataframe\">\n",
       "  <thead>\n",
       "    <tr style=\"text-align: right;\">\n",
       "      <th></th>\n",
       "      <th>porcentaje</th>\n",
       "    </tr>\n",
       "    <tr>\n",
       "      <th>color</th>\n",
       "      <th></th>\n",
       "    </tr>\n",
       "  </thead>\n",
       "  <tbody>\n",
       "    <tr>\n",
       "      <th>White</th>\n",
       "      <td>0.262722</td>\n",
       "    </tr>\n",
       "    <tr>\n",
       "      <th>Black</th>\n",
       "      <td>0.221302</td>\n",
       "    </tr>\n",
       "    <tr>\n",
       "      <th>Blue</th>\n",
       "      <td>0.123077</td>\n",
       "    </tr>\n",
       "    <tr>\n",
       "      <th>Grey</th>\n",
       "      <td>0.095858</td>\n",
       "    </tr>\n",
       "    <tr>\n",
       "      <th>Pink</th>\n",
       "      <td>0.073373</td>\n",
       "    </tr>\n",
       "    <tr>\n",
       "      <th>Green</th>\n",
       "      <td>0.069822</td>\n",
       "    </tr>\n",
       "    <tr>\n",
       "      <th>Purple</th>\n",
       "      <td>0.036686</td>\n",
       "    </tr>\n",
       "    <tr>\n",
       "      <th>Red</th>\n",
       "      <td>0.029586</td>\n",
       "    </tr>\n",
       "    <tr>\n",
       "      <th>Multicolor</th>\n",
       "      <td>0.023669</td>\n",
       "    </tr>\n",
       "    <tr>\n",
       "      <th>Yellow</th>\n",
       "      <td>0.020118</td>\n",
       "    </tr>\n",
       "    <tr>\n",
       "      <th>Orange</th>\n",
       "      <td>0.013018</td>\n",
       "    </tr>\n",
       "    <tr>\n",
       "      <th>Burgundy</th>\n",
       "      <td>0.010651</td>\n",
       "    </tr>\n",
       "    <tr>\n",
       "      <th>Beige</th>\n",
       "      <td>0.007101</td>\n",
       "    </tr>\n",
       "    <tr>\n",
       "      <th>Multi</th>\n",
       "      <td>0.004734</td>\n",
       "    </tr>\n",
       "    <tr>\n",
       "      <th>Gold</th>\n",
       "      <td>0.003550</td>\n",
       "    </tr>\n",
       "    <tr>\n",
       "      <th>Turquoise</th>\n",
       "      <td>0.002367</td>\n",
       "    </tr>\n",
       "    <tr>\n",
       "      <th>Silver</th>\n",
       "      <td>0.001183</td>\n",
       "    </tr>\n",
       "    <tr>\n",
       "      <th>Brown</th>\n",
       "      <td>0.001183</td>\n",
       "    </tr>\n",
       "  </tbody>\n",
       "</table>\n",
       "</div>"
      ],
      "text/plain": [
       "            porcentaje\n",
       "color                 \n",
       "White         0.262722\n",
       "Black         0.221302\n",
       "Blue          0.123077\n",
       "Grey          0.095858\n",
       "Pink          0.073373\n",
       "Green         0.069822\n",
       "Purple        0.036686\n",
       "Red           0.029586\n",
       "Multicolor    0.023669\n",
       "Yellow        0.020118\n",
       "Orange        0.013018\n",
       "Burgundy      0.010651\n",
       "Beige         0.007101\n",
       "Multi         0.004734\n",
       "Gold          0.003550\n",
       "Turquoise     0.002367\n",
       "Silver        0.001183\n",
       "Brown         0.001183"
      ]
     },
     "execution_count": 14,
     "metadata": {},
     "output_type": "execute_result"
    }
   ],
   "source": [
    "# ejemplo de como se veria cada nivel de la columna colores con sus porcentajes de representatividad \n",
    "prueba_niveles"
   ]
  },
  {
   "cell_type": "code",
   "execution_count": 15,
   "id": "7848c62a-2d5d-4035-b47b-bfc9c08a75a5",
   "metadata": {},
   "outputs": [
    {
     "data": {
      "text/plain": [
       "0"
      ]
     },
     "execution_count": 15,
     "metadata": {},
     "output_type": "execute_result"
    }
   ],
   "source": [
    "len(prueba_niveles.loc[prueba_niveles[\"porcentaje\"] > 0.90,:])"
   ]
  },
  {
   "cell_type": "markdown",
   "id": "edfb9626-5b5b-4be4-a485-3efe96aa82b3",
   "metadata": {},
   "source": [
    "# Ejericico 1\n",
    "### Según el dataset de adidas, para las columnas categóricas, encontrar -aquellas columnas que tienen mas de un nivel, y que por lo menos uno de esos niveles represente mas o igual del 98%. Para las columnas que cumplan esa premisa, eliminaran del array de columnas validas"
   ]
  },
  {
   "cell_type": "code",
   "execution_count": 16,
   "id": "5665c5f8-cd65-4a75-a037-9aadb2c7fd2d",
   "metadata": {},
   "outputs": [],
   "source": [
    "target = 0.98\n",
    "columnas_validas =[]\n",
    "columnas_un_nivel=[]\n",
    "columnas_no_validas=[]\n",
    "\n",
    "\n",
    "for columna in categorias:\n",
    "    niveles = addidas.loc[:,[columna]].drop_duplicates()\n",
    "    cantidad_niveles = niveles.shape[0]\n",
    "    # en esta parte validamos que la columna tenga mas de un nivel\n",
    "    if cantidad_niveles>1:\n",
    "        # en esta parte obtenemos un dataframe con cada uno de los porcentajes de representatividad\n",
    "        # que tiene cada nivel de una categoria, dividiendo sus valores entre el total de registros del \n",
    "        # dataframe original\n",
    "        porcentaje_niveles = pd.DataFrame(addidas.loc[:,[columna]].value_counts()/addidas.shape[0])\n",
    "        # le cambiamos el nombre la columna                                   \n",
    "        porcentaje_niveles.columns = [\"porcentaje\"]\n",
    "        # obtenemos la cantidad niveles que cumplen con la condicion de ser mayor o igual al target = 0.98 en este caso                                   \n",
    "        cantidad_mayores_target=len(porcentaje_niveles.loc[porcentaje_niveles[\"porcentaje\"] >=target ,:])\n",
    "        # si la cantidad es cero quiere decir que ninguno de los niveles cumple con la condicion y por ende, la columna es\n",
    "        # valida, asi que puede entrar al arreglo de columnas validas, caso contrario no es valida\n",
    "        if cantidad_mayores_target==0:                              \n",
    "            columnas_validas.append(columna)\n",
    "        else:\n",
    "            columnas_no_validas.append(columna)                              \n",
    "            \n",
    "    else:\n",
    "        columnas_un_nivel.append(columna)\n",
    "                "
   ]
  },
  {
   "cell_type": "code",
   "execution_count": 17,
   "id": "cb985814-fc57-4c33-aeb3-74c65478bf83",
   "metadata": {},
   "outputs": [
    {
     "data": {
      "text/plain": [
       "['name', 'color', 'category', 'breadcrumbs', 'description']"
      ]
     },
     "execution_count": 17,
     "metadata": {},
     "output_type": "execute_result"
    }
   ],
   "source": [
    "columnas_validas"
   ]
  },
  {
   "cell_type": "code",
   "execution_count": 18,
   "id": "f0838ec2-9195-4ccf-a3b8-55add9d0041a",
   "metadata": {},
   "outputs": [
    {
     "data": {
      "text/plain": [
       "['availability']"
      ]
     },
     "execution_count": 18,
     "metadata": {},
     "output_type": "execute_result"
    }
   ],
   "source": [
    "columnas_no_validas"
   ]
  },
  {
   "cell_type": "code",
   "execution_count": 19,
   "id": "d78e4c9f-ceb6-4ccc-9c51-74cdd6fb6e5b",
   "metadata": {},
   "outputs": [
    {
     "data": {
      "text/plain": [
       "['currency', 'source', 'source_website', 'brand', 'country', 'language']"
      ]
     },
     "execution_count": 19,
     "metadata": {},
     "output_type": "execute_result"
    }
   ],
   "source": [
    "columnas_un_nivel"
   ]
  },
  {
   "cell_type": "code",
   "execution_count": 20,
   "id": "e66b660b-3c03-4df2-9e5b-f9cd477c8e50",
   "metadata": {},
   "outputs": [
    {
     "data": {
      "text/plain": [
       "InStock        True\n",
       "OutOfStock    False\n",
       "Name: availability, dtype: bool"
      ]
     },
     "execution_count": 20,
     "metadata": {},
     "output_type": "execute_result"
    }
   ],
   "source": [
    "addidas.loc[:,\"availability\"].value_counts()/addidas.shape[0]>= 0.98 # uno de sus niveles cumple con la condicion "
   ]
  },
  {
   "cell_type": "markdown",
   "id": "2a5feda2-3fe2-4105-95b9-317e09f8f9b5",
   "metadata": {},
   "source": [
    "# Ejercicio 2\n",
    "### Según el dataset de adidas, para las columnas categóricas, encontrar aquellas columnas que tengan entre 3-6 niveles. Al nivel con la frecuencia mas baja lo vamos a remplazar por la palabra Others, una vez ya tenga esa regla aplicarla al dataset original, tal cual como se hizo con el ejercicio hecho en clases."
   ]
  },
  {
   "cell_type": "code",
   "execution_count": 21,
   "id": "fba0e77a-9dad-40b9-8688-d7019c485439",
   "metadata": {},
   "outputs": [],
   "source": [
    "columnas_niveles_3_6 =[]\n",
    "columnas_fuera_rango =[]\n",
    "# se usa el mismo arreglo de categorias definido des la primera parte por las mismas razones\n",
    "for columna in categorias:\n",
    "    # esta parte es parecida al ejercicio anterior, obtenemos los niveles de cada categoria para la validacion\n",
    "    niveles = addidas.loc[:,[columna]].drop_duplicates()\n",
    "    cantidad_niveles = niveles.shape[0]\n",
    "    #validamos que esten entre el rango del ejercicio \n",
    "    if cantidad_niveles >=3 and cantidad_niveles <=6:\n",
    "        columnas_niveles_3_6.append(columna)\n",
    "    else:\n",
    "        columnas_fuera_rango.append(columna)\n",
    "        "
   ]
  },
  {
   "cell_type": "code",
   "execution_count": 22,
   "id": "e4d5a7b4-b466-4587-aa8f-def8cb96e825",
   "metadata": {},
   "outputs": [
    {
     "data": {
      "text/plain": [
       "['category']"
      ]
     },
     "execution_count": 22,
     "metadata": {},
     "output_type": "execute_result"
    }
   ],
   "source": [
    "columnas_niveles_3_6"
   ]
  },
  {
   "cell_type": "code",
   "execution_count": 41,
   "id": "cdd9c552-6596-450a-add9-1f457a406023",
   "metadata": {},
   "outputs": [
    {
     "data": {
      "text/plain": [
       "['name',\n",
       " 'currency',\n",
       " 'availability',\n",
       " 'color',\n",
       " 'source',\n",
       " 'source_website',\n",
       " 'breadcrumbs',\n",
       " 'description',\n",
       " 'brand',\n",
       " 'country',\n",
       " 'language']"
      ]
     },
     "execution_count": 41,
     "metadata": {},
     "output_type": "execute_result"
    }
   ],
   "source": [
    "# no aparecen todas las columnas porque algunas las descarte desde el principio\n",
    "columnas_fuera_rango"
   ]
  },
  {
   "cell_type": "code",
   "execution_count": 24,
   "id": "0c3a6236-7124-4096-a476-fed8c111a067",
   "metadata": {},
   "outputs": [],
   "source": [
    "df_e2=addidas.groupby([\"category\"],as_index=False).agg({\"sku\":\"count\"})"
   ]
  },
  {
   "cell_type": "code",
   "execution_count": 25,
   "id": "6a243024-9561-49e4-9cca-6a83be879bc1",
   "metadata": {},
   "outputs": [],
   "source": [
    "df_e2.columns= [\"category\",\"frequency\"]"
   ]
  },
  {
   "cell_type": "code",
   "execution_count": 26,
   "id": "96e2fc4a-5d61-47c5-a4bc-abe2b33f4387",
   "metadata": {},
   "outputs": [],
   "source": [
    "df_e2 = df_e2.sort_values([\"frequency\"],ascending = False)"
   ]
  },
  {
   "cell_type": "code",
   "execution_count": 27,
   "id": "4c3af8e9-421b-48f5-bf91-1aff01f22e96",
   "metadata": {},
   "outputs": [
    {
     "data": {
      "text/html": [
       "<div>\n",
       "<style scoped>\n",
       "    .dataframe tbody tr th:only-of-type {\n",
       "        vertical-align: middle;\n",
       "    }\n",
       "\n",
       "    .dataframe tbody tr th {\n",
       "        vertical-align: top;\n",
       "    }\n",
       "\n",
       "    .dataframe thead th {\n",
       "        text-align: right;\n",
       "    }\n",
       "</style>\n",
       "<table border=\"1\" class=\"dataframe\">\n",
       "  <thead>\n",
       "    <tr style=\"text-align: right;\">\n",
       "      <th></th>\n",
       "      <th>category</th>\n",
       "      <th>frequency</th>\n",
       "    </tr>\n",
       "  </thead>\n",
       "  <tbody>\n",
       "    <tr>\n",
       "      <th>2</th>\n",
       "      <td>Shoes</td>\n",
       "      <td>426</td>\n",
       "    </tr>\n",
       "    <tr>\n",
       "      <th>1</th>\n",
       "      <td>Clothing</td>\n",
       "      <td>337</td>\n",
       "    </tr>\n",
       "    <tr>\n",
       "      <th>0</th>\n",
       "      <td>Accessories</td>\n",
       "      <td>82</td>\n",
       "    </tr>\n",
       "  </tbody>\n",
       "</table>\n",
       "</div>"
      ],
      "text/plain": [
       "      category  frequency\n",
       "2        Shoes        426\n",
       "1     Clothing        337\n",
       "0  Accessories         82"
      ]
     },
     "execution_count": 27,
     "metadata": {},
     "output_type": "execute_result"
    }
   ],
   "source": [
    "df_e2"
   ]
  },
  {
   "cell_type": "code",
   "execution_count": 28,
   "id": "b04f0b8c-e673-4468-a56e-169ad57f3de0",
   "metadata": {},
   "outputs": [],
   "source": [
    "# el nivel con la frencuancia mas baja sera sustituido por la palabra Others\n",
    "df_e2[\"n_category\"]=df_e2.apply(lambda r: \"Others\" if  ( r[\"frequency\"] == df_e2[\"frequency\"].min() )  else r[\"category\"],axis=1)"
   ]
  },
  {
   "cell_type": "code",
   "execution_count": 29,
   "id": "af5d16b5-067c-4014-8c04-64f8855471ac",
   "metadata": {},
   "outputs": [],
   "source": [
    "df_rule_c=df_e2.loc[:,[\"category\",\"n_category\"]]"
   ]
  },
  {
   "cell_type": "code",
   "execution_count": 30,
   "id": "49ab9e85-365e-4a0c-a4d3-b73fd192a066",
   "metadata": {},
   "outputs": [],
   "source": [
    "addidas=addidas.merge(df_rule_c,on=[\"category\"],how=\"left\")"
   ]
  },
  {
   "cell_type": "code",
   "execution_count": 31,
   "id": "7ce4eac5-4f04-49cc-ad5a-30216b308880",
   "metadata": {},
   "outputs": [
    {
     "data": {
      "text/html": [
       "<div>\n",
       "<style scoped>\n",
       "    .dataframe tbody tr th:only-of-type {\n",
       "        vertical-align: middle;\n",
       "    }\n",
       "\n",
       "    .dataframe tbody tr th {\n",
       "        vertical-align: top;\n",
       "    }\n",
       "\n",
       "    .dataframe thead th {\n",
       "        text-align: right;\n",
       "    }\n",
       "</style>\n",
       "<table border=\"1\" class=\"dataframe\">\n",
       "  <thead>\n",
       "    <tr style=\"text-align: right;\">\n",
       "      <th></th>\n",
       "      <th>url</th>\n",
       "      <th>name</th>\n",
       "      <th>sku</th>\n",
       "      <th>selling_price</th>\n",
       "      <th>original_price</th>\n",
       "      <th>currency</th>\n",
       "      <th>availability</th>\n",
       "      <th>color</th>\n",
       "      <th>category</th>\n",
       "      <th>source</th>\n",
       "      <th>...</th>\n",
       "      <th>breadcrumbs</th>\n",
       "      <th>description</th>\n",
       "      <th>brand</th>\n",
       "      <th>images</th>\n",
       "      <th>country</th>\n",
       "      <th>language</th>\n",
       "      <th>average_rating</th>\n",
       "      <th>reviews_count</th>\n",
       "      <th>crawled_at</th>\n",
       "      <th>n_category</th>\n",
       "    </tr>\n",
       "  </thead>\n",
       "  <tbody>\n",
       "    <tr>\n",
       "      <th>0</th>\n",
       "      <td>https://www.adidas.com/us/beach-shorts/FJ5089....</td>\n",
       "      <td>Beach Shorts</td>\n",
       "      <td>FJ5089</td>\n",
       "      <td>40</td>\n",
       "      <td>NaN</td>\n",
       "      <td>USD</td>\n",
       "      <td>InStock</td>\n",
       "      <td>Black</td>\n",
       "      <td>Clothing</td>\n",
       "      <td>adidas United States</td>\n",
       "      <td>...</td>\n",
       "      <td>Women/Clothing</td>\n",
       "      <td>Splashing in the surf. Making memories with yo...</td>\n",
       "      <td>adidas</td>\n",
       "      <td>https://assets.adidas.com/images/w_600,f_auto,...</td>\n",
       "      <td>USA</td>\n",
       "      <td>en</td>\n",
       "      <td>4.5</td>\n",
       "      <td>35</td>\n",
       "      <td>2021-10-23 17:50:17.331255</td>\n",
       "      <td>Clothing</td>\n",
       "    </tr>\n",
       "    <tr>\n",
       "      <th>1</th>\n",
       "      <td>https://www.adidas.com/us/five-ten-kestrel-lac...</td>\n",
       "      <td>Five Ten Kestrel Lace Mountain Bike Shoes</td>\n",
       "      <td>BC0770</td>\n",
       "      <td>150</td>\n",
       "      <td>NaN</td>\n",
       "      <td>USD</td>\n",
       "      <td>InStock</td>\n",
       "      <td>Grey</td>\n",
       "      <td>Shoes</td>\n",
       "      <td>adidas United States</td>\n",
       "      <td>...</td>\n",
       "      <td>Women/Shoes</td>\n",
       "      <td>Lace up and get after it. The Five Ten Kestrel...</td>\n",
       "      <td>adidas</td>\n",
       "      <td>https://assets.adidas.com/images/w_600,f_auto,...</td>\n",
       "      <td>USA</td>\n",
       "      <td>en</td>\n",
       "      <td>4.8</td>\n",
       "      <td>4</td>\n",
       "      <td>2021-10-23 17:50:17.423830</td>\n",
       "      <td>Shoes</td>\n",
       "    </tr>\n",
       "  </tbody>\n",
       "</table>\n",
       "<p>2 rows × 21 columns</p>\n",
       "</div>"
      ],
      "text/plain": [
       "                                                 url  \\\n",
       "0  https://www.adidas.com/us/beach-shorts/FJ5089....   \n",
       "1  https://www.adidas.com/us/five-ten-kestrel-lac...   \n",
       "\n",
       "                                        name     sku  selling_price  \\\n",
       "0                               Beach Shorts  FJ5089             40   \n",
       "1  Five Ten Kestrel Lace Mountain Bike Shoes  BC0770            150   \n",
       "\n",
       "  original_price currency availability  color  category                source  \\\n",
       "0            NaN      USD      InStock  Black  Clothing  adidas United States   \n",
       "1            NaN      USD      InStock   Grey     Shoes  adidas United States   \n",
       "\n",
       "   ...     breadcrumbs                                        description  \\\n",
       "0  ...  Women/Clothing  Splashing in the surf. Making memories with yo...   \n",
       "1  ...     Women/Shoes  Lace up and get after it. The Five Ten Kestrel...   \n",
       "\n",
       "    brand                                             images country language  \\\n",
       "0  adidas  https://assets.adidas.com/images/w_600,f_auto,...     USA       en   \n",
       "1  adidas  https://assets.adidas.com/images/w_600,f_auto,...     USA       en   \n",
       "\n",
       "  average_rating  reviews_count                  crawled_at n_category  \n",
       "0            4.5             35  2021-10-23 17:50:17.331255   Clothing  \n",
       "1            4.8              4  2021-10-23 17:50:17.423830      Shoes  \n",
       "\n",
       "[2 rows x 21 columns]"
      ]
     },
     "execution_count": 31,
     "metadata": {},
     "output_type": "execute_result"
    }
   ],
   "source": [
    "addidas.head(2)"
   ]
  },
  {
   "cell_type": "code",
   "execution_count": 32,
   "id": "908da345-c94e-4f5e-8fbc-7d1712f025ec",
   "metadata": {},
   "outputs": [],
   "source": [
    "# ahora quedaria intercambiar o mejor dicho eliminar la columna vieja de category\n",
    "addidas=addidas.loc[:,['url', 'name', 'sku', 'selling_price', 'original_price', 'currency',\n",
    "       'availability', 'color', 'n_category', 'source', 'source_website',\n",
    "       'breadcrumbs', 'description', 'brand', 'images', 'country', 'language',\n",
    "       'average_rating', 'reviews_count', 'crawled_at']]"
   ]
  },
  {
   "cell_type": "code",
   "execution_count": 33,
   "id": "0f3fec1a-1ec0-4742-a1ff-4937880ca5b1",
   "metadata": {},
   "outputs": [
    {
     "data": {
      "text/html": [
       "<div>\n",
       "<style scoped>\n",
       "    .dataframe tbody tr th:only-of-type {\n",
       "        vertical-align: middle;\n",
       "    }\n",
       "\n",
       "    .dataframe tbody tr th {\n",
       "        vertical-align: top;\n",
       "    }\n",
       "\n",
       "    .dataframe thead th {\n",
       "        text-align: right;\n",
       "    }\n",
       "</style>\n",
       "<table border=\"1\" class=\"dataframe\">\n",
       "  <thead>\n",
       "    <tr style=\"text-align: right;\">\n",
       "      <th></th>\n",
       "      <th>url</th>\n",
       "      <th>name</th>\n",
       "      <th>selling_price</th>\n",
       "      <th>original_price</th>\n",
       "      <th>currency</th>\n",
       "      <th>availability</th>\n",
       "      <th>color</th>\n",
       "      <th>n_category</th>\n",
       "    </tr>\n",
       "  </thead>\n",
       "  <tbody>\n",
       "    <tr>\n",
       "      <th>11</th>\n",
       "      <td>https://www.adidas.com/us/athletic-cushioned-c...</td>\n",
       "      <td>Athletic Cushioned Crew Socks 6 Pairs</td>\n",
       "      <td>20</td>\n",
       "      <td>NaN</td>\n",
       "      <td>USD</td>\n",
       "      <td>InStock</td>\n",
       "      <td>White</td>\n",
       "      <td>Others</td>\n",
       "    </tr>\n",
       "    <tr>\n",
       "      <th>13</th>\n",
       "      <td>https://www.adidas.com/us/cushioned-mid-crew-s...</td>\n",
       "      <td>Cushioned Mid-Crew Socks 2 Pairs</td>\n",
       "      <td>14</td>\n",
       "      <td>NaN</td>\n",
       "      <td>USD</td>\n",
       "      <td>InStock</td>\n",
       "      <td>Black</td>\n",
       "      <td>Others</td>\n",
       "    </tr>\n",
       "    <tr>\n",
       "      <th>14</th>\n",
       "      <td>https://www.adidas.com/us/tour-camo-print-hat/...</td>\n",
       "      <td>Tour Camo-Print Hat</td>\n",
       "      <td>30</td>\n",
       "      <td>NaN</td>\n",
       "      <td>USD</td>\n",
       "      <td>InStock</td>\n",
       "      <td>Blue</td>\n",
       "      <td>Others</td>\n",
       "    </tr>\n",
       "    <tr>\n",
       "      <th>25</th>\n",
       "      <td>https://www.adidas.com/us/conext-21-mini-ball/...</td>\n",
       "      <td>Conext 21 Mini Ball</td>\n",
       "      <td>10</td>\n",
       "      <td>$14</td>\n",
       "      <td>USD</td>\n",
       "      <td>InStock</td>\n",
       "      <td>White</td>\n",
       "      <td>Others</td>\n",
       "    </tr>\n",
       "    <tr>\n",
       "      <th>57</th>\n",
       "      <td>https://www.adidas.com/us/3-stripes-low-cut-so...</td>\n",
       "      <td>3-Stripes Low Cut Socks 3 Pairs</td>\n",
       "      <td>10</td>\n",
       "      <td>$14</td>\n",
       "      <td>USD</td>\n",
       "      <td>InStock</td>\n",
       "      <td>Grey</td>\n",
       "      <td>Others</td>\n",
       "    </tr>\n",
       "    <tr>\n",
       "      <th>...</th>\n",
       "      <td>...</td>\n",
       "      <td>...</td>\n",
       "      <td>...</td>\n",
       "      <td>...</td>\n",
       "      <td>...</td>\n",
       "      <td>...</td>\n",
       "      <td>...</td>\n",
       "      <td>...</td>\n",
       "    </tr>\n",
       "    <tr>\n",
       "      <th>803</th>\n",
       "      <td>https://www.adidas.com/us/originals-sunglasses...</td>\n",
       "      <td>Originals Sunglasses OR0032</td>\n",
       "      <td>112</td>\n",
       "      <td>$160</td>\n",
       "      <td>USD</td>\n",
       "      <td>InStock</td>\n",
       "      <td>Black</td>\n",
       "      <td>Others</td>\n",
       "    </tr>\n",
       "    <tr>\n",
       "      <th>810</th>\n",
       "      <td>https://www.adidas.com/us/r.y.v.-sling-pack/H3...</td>\n",
       "      <td>R.Y.V. Sling Pack</td>\n",
       "      <td>41</td>\n",
       "      <td>$58</td>\n",
       "      <td>USD</td>\n",
       "      <td>InStock</td>\n",
       "      <td>Black</td>\n",
       "      <td>Others</td>\n",
       "    </tr>\n",
       "    <tr>\n",
       "      <th>821</th>\n",
       "      <td>https://www.adidas.com/us/adidas-adventure-bal...</td>\n",
       "      <td>adidas Adventure Ball Cap</td>\n",
       "      <td>23</td>\n",
       "      <td>$32</td>\n",
       "      <td>USD</td>\n",
       "      <td>InStock</td>\n",
       "      <td>Blue</td>\n",
       "      <td>Others</td>\n",
       "    </tr>\n",
       "    <tr>\n",
       "      <th>822</th>\n",
       "      <td>https://www.adidas.com/us/r.y.v.-toploader-bac...</td>\n",
       "      <td>R.Y.V. Toploader Backpack</td>\n",
       "      <td>63</td>\n",
       "      <td>$90</td>\n",
       "      <td>USD</td>\n",
       "      <td>InStock</td>\n",
       "      <td>Black</td>\n",
       "      <td>Others</td>\n",
       "    </tr>\n",
       "    <tr>\n",
       "      <th>834</th>\n",
       "      <td>https://www.adidas.com/us/jacquard-trefoil-cre...</td>\n",
       "      <td>Jacquard Trefoil Crew Socks 2 Pairs</td>\n",
       "      <td>12</td>\n",
       "      <td>$14</td>\n",
       "      <td>USD</td>\n",
       "      <td>InStock</td>\n",
       "      <td>White</td>\n",
       "      <td>Others</td>\n",
       "    </tr>\n",
       "  </tbody>\n",
       "</table>\n",
       "<p>82 rows × 8 columns</p>\n",
       "</div>"
      ],
      "text/plain": [
       "                                                   url  \\\n",
       "11   https://www.adidas.com/us/athletic-cushioned-c...   \n",
       "13   https://www.adidas.com/us/cushioned-mid-crew-s...   \n",
       "14   https://www.adidas.com/us/tour-camo-print-hat/...   \n",
       "25   https://www.adidas.com/us/conext-21-mini-ball/...   \n",
       "57   https://www.adidas.com/us/3-stripes-low-cut-so...   \n",
       "..                                                 ...   \n",
       "803  https://www.adidas.com/us/originals-sunglasses...   \n",
       "810  https://www.adidas.com/us/r.y.v.-sling-pack/H3...   \n",
       "821  https://www.adidas.com/us/adidas-adventure-bal...   \n",
       "822  https://www.adidas.com/us/r.y.v.-toploader-bac...   \n",
       "834  https://www.adidas.com/us/jacquard-trefoil-cre...   \n",
       "\n",
       "                                      name  selling_price original_price  \\\n",
       "11   Athletic Cushioned Crew Socks 6 Pairs             20            NaN   \n",
       "13        Cushioned Mid-Crew Socks 2 Pairs             14            NaN   \n",
       "14                     Tour Camo-Print Hat             30            NaN   \n",
       "25                     Conext 21 Mini Ball             10            $14   \n",
       "57         3-Stripes Low Cut Socks 3 Pairs             10            $14   \n",
       "..                                     ...            ...            ...   \n",
       "803            Originals Sunglasses OR0032            112           $160   \n",
       "810                      R.Y.V. Sling Pack             41            $58   \n",
       "821              adidas Adventure Ball Cap             23            $32   \n",
       "822              R.Y.V. Toploader Backpack             63            $90   \n",
       "834    Jacquard Trefoil Crew Socks 2 Pairs             12            $14   \n",
       "\n",
       "    currency availability  color n_category  \n",
       "11       USD      InStock  White     Others  \n",
       "13       USD      InStock  Black     Others  \n",
       "14       USD      InStock   Blue     Others  \n",
       "25       USD      InStock  White     Others  \n",
       "57       USD      InStock   Grey     Others  \n",
       "..       ...          ...    ...        ...  \n",
       "803      USD      InStock  Black     Others  \n",
       "810      USD      InStock  Black     Others  \n",
       "821      USD      InStock   Blue     Others  \n",
       "822      USD      InStock  Black     Others  \n",
       "834      USD      InStock  White     Others  \n",
       "\n",
       "[82 rows x 8 columns]"
      ]
     },
     "execution_count": 33,
     "metadata": {},
     "output_type": "execute_result"
    }
   ],
   "source": [
    "addidas.loc[addidas[\"n_category\"]==\"Others\",['url', 'name', 'selling_price', 'original_price', 'currency',\n",
    "       'availability', 'color', 'n_category']]"
   ]
  },
  {
   "cell_type": "code",
   "execution_count": 35,
   "id": "9b32867f-d7b0-416a-a51a-b0c81b75e744",
   "metadata": {},
   "outputs": [],
   "source": [
    "\n",
    "df_rule_c.to_csv(\"rule_category.csv\")"
   ]
  },
  {
   "cell_type": "code",
   "execution_count": null,
   "id": "077637f3-fffc-40a0-9399-9dcdcb335594",
   "metadata": {},
   "outputs": [],
   "source": []
  }
 ],
 "metadata": {
  "kernelspec": {
   "display_name": "Python 3 (ipykernel)",
   "language": "python",
   "name": "python3"
  },
  "language_info": {
   "codemirror_mode": {
    "name": "ipython",
    "version": 3
   },
   "file_extension": ".py",
   "mimetype": "text/x-python",
   "name": "python",
   "nbconvert_exporter": "python",
   "pygments_lexer": "ipython3",
   "version": "3.9.12"
  }
 },
 "nbformat": 4,
 "nbformat_minor": 5
}
